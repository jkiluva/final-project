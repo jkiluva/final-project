{
 "cells": [
  {
   "cell_type": "markdown",
   "id": "fff74973-cb3e-4b43-9b65-8707549d69fe",
   "metadata": {},
   "source": [
    "## Import Packages"
   ]
  },
  {
   "cell_type": "code",
   "execution_count": 1,
   "id": "b33d7c98-7d85-4915-bb37-063568c09179",
   "metadata": {},
   "outputs": [],
   "source": [
    "import pandas as pd\n",
    "import numpy as np\n",
    "import scipy\n",
    "from scipy import stats\n",
    "from scipy.stats import ttest_ind\n",
    "from statsmodels.stats.multicomp import pairwise_tukeyhsd\n",
    "from statsmodels.stats.multicomp import MultiComparison\n",
    "import seaborn as sns\n",
    "from statsmodels.stats.proportion import proportions_ztest\n",
    "from statsmodels.stats.proportion import proportions_chisquare"
   ]
  },
  {
   "cell_type": "markdown",
   "id": "1a842ff7-2e90-45e1-a9d6-265e9aa44079",
   "metadata": {},
   "source": [
    "## Import Data"
   ]
  },
  {
   "cell_type": "code",
   "execution_count": 2,
   "id": "d6ba98cc-b469-4729-9d41-a0501804068e",
   "metadata": {},
   "outputs": [],
   "source": [
    "NYR=pd.read_csv(\"C:/Users/Repai/Downloads/New_years_resolutions.csv\")"
   ]
  },
  {
   "cell_type": "markdown",
   "id": "796ff7f9-c1f2-4574-81bb-9db70c3ad32a",
   "metadata": {},
   "source": [
    "### Print First 5 Rows"
   ]
  },
  {
   "cell_type": "code",
   "execution_count": 3,
   "id": "e19634a4-1d90-4747-97f5-882937c94a28",
   "metadata": {},
   "outputs": [
    {
     "data": {
      "text/html": [
       "<div>\n",
       "<style scoped>\n",
       "    .dataframe tbody tr th:only-of-type {\n",
       "        vertical-align: middle;\n",
       "    }\n",
       "\n",
       "    .dataframe tbody tr th {\n",
       "        vertical-align: top;\n",
       "    }\n",
       "\n",
       "    .dataframe thead th {\n",
       "        text-align: right;\n",
       "    }\n",
       "</style>\n",
       "<table border=\"1\" class=\"dataframe\">\n",
       "  <thead>\n",
       "    <tr style=\"text-align: right;\">\n",
       "      <th></th>\n",
       "      <th>tweet_created</th>\n",
       "      <th>tweet_text</th>\n",
       "      <th>tweet_category</th>\n",
       "      <th>tweet_topics</th>\n",
       "      <th>tweet_location</th>\n",
       "      <th>tweet_state</th>\n",
       "      <th>tweet_region</th>\n",
       "      <th>user_timezone</th>\n",
       "      <th>user_gender</th>\n",
       "      <th>retweet_count</th>\n",
       "    </tr>\n",
       "  </thead>\n",
       "  <tbody>\n",
       "    <tr>\n",
       "      <th>0</th>\n",
       "      <td>2014-12-21 16:11:00</td>\n",
       "      <td>#NewYearsResolution to not put the parking lot...</td>\n",
       "      <td>Humor</td>\n",
       "      <td>Humor about Personal Growth and Interests Reso...</td>\n",
       "      <td>City of Angels, CA</td>\n",
       "      <td>CA</td>\n",
       "      <td>West</td>\n",
       "      <td>Pacific Time (US &amp; Canada)</td>\n",
       "      <td>male</td>\n",
       "      <td>NaN</td>\n",
       "    </tr>\n",
       "    <tr>\n",
       "      <th>1</th>\n",
       "      <td>2014-12-21 16:16:00</td>\n",
       "      <td>I got the hair. I just need to work on the bod...</td>\n",
       "      <td>Health &amp; Fitness</td>\n",
       "      <td>Improve my body</td>\n",
       "      <td>Arlington, TX</td>\n",
       "      <td>TX</td>\n",
       "      <td>South</td>\n",
       "      <td>Central Time (US &amp; Canada)</td>\n",
       "      <td>male</td>\n",
       "      <td>NaN</td>\n",
       "    </tr>\n",
       "    <tr>\n",
       "      <th>2</th>\n",
       "      <td>2014-12-21 16:30:00</td>\n",
       "      <td>Self improvement!.. Mentally, physically, and ...</td>\n",
       "      <td>Personal Growth</td>\n",
       "      <td>Improve my attitude</td>\n",
       "      <td>Las Vegas, NV</td>\n",
       "      <td>NV</td>\n",
       "      <td>West</td>\n",
       "      <td>Central Time (US &amp; Canada)</td>\n",
       "      <td>male</td>\n",
       "      <td>NaN</td>\n",
       "    </tr>\n",
       "    <tr>\n",
       "      <th>3</th>\n",
       "      <td>2014-12-21 17:51:00</td>\n",
       "      <td>I've decided to get pregnant in #2015 #NewYear...</td>\n",
       "      <td>Humor</td>\n",
       "      <td>Humor about Family/Friends/Relationships Resol...</td>\n",
       "      <td>Ft. Luderdale, Florida</td>\n",
       "      <td>FL</td>\n",
       "      <td>South</td>\n",
       "      <td>NaN</td>\n",
       "      <td>male</td>\n",
       "      <td>NaN</td>\n",
       "    </tr>\n",
       "    <tr>\n",
       "      <th>4</th>\n",
       "      <td>2014-12-21 18:09:00</td>\n",
       "      <td>All I want for Christmas is to be Carrie Under...</td>\n",
       "      <td>Personal Growth</td>\n",
       "      <td>Other</td>\n",
       "      <td>South Carolina</td>\n",
       "      <td>SC</td>\n",
       "      <td>South</td>\n",
       "      <td>Pacific Time (US &amp; Canada)</td>\n",
       "      <td>female</td>\n",
       "      <td>NaN</td>\n",
       "    </tr>\n",
       "  </tbody>\n",
       "</table>\n",
       "</div>"
      ],
      "text/plain": [
       "         tweet_created                                         tweet_text  \\\n",
       "0  2014-12-21 16:11:00  #NewYearsResolution to not put the parking lot...   \n",
       "1  2014-12-21 16:16:00  I got the hair. I just need to work on the bod...   \n",
       "2  2014-12-21 16:30:00  Self improvement!.. Mentally, physically, and ...   \n",
       "3  2014-12-21 17:51:00  I've decided to get pregnant in #2015 #NewYear...   \n",
       "4  2014-12-21 18:09:00  All I want for Christmas is to be Carrie Under...   \n",
       "\n",
       "     tweet_category                                       tweet_topics  \\\n",
       "0             Humor  Humor about Personal Growth and Interests Reso...   \n",
       "1  Health & Fitness                                    Improve my body   \n",
       "2   Personal Growth                                Improve my attitude   \n",
       "3             Humor  Humor about Family/Friends/Relationships Resol...   \n",
       "4   Personal Growth                                              Other   \n",
       "\n",
       "           tweet_location tweet_state tweet_region  \\\n",
       "0      City of Angels, CA          CA         West   \n",
       "1           Arlington, TX          TX        South   \n",
       "2           Las Vegas, NV          NV         West   \n",
       "3  Ft. Luderdale, Florida          FL        South   \n",
       "4          South Carolina          SC        South   \n",
       "\n",
       "                user_timezone user_gender  retweet_count  \n",
       "0  Pacific Time (US & Canada)        male            NaN  \n",
       "1  Central Time (US & Canada)        male            NaN  \n",
       "2  Central Time (US & Canada)        male            NaN  \n",
       "3                         NaN        male            NaN  \n",
       "4  Pacific Time (US & Canada)      female            NaN  "
      ]
     },
     "execution_count": 3,
     "metadata": {},
     "output_type": "execute_result"
    }
   ],
   "source": [
    "NYR.head()"
   ]
  },
  {
   "cell_type": "markdown",
   "id": "0770c457-e82a-44ef-aa1d-b7e90faa3361",
   "metadata": {},
   "source": [
    "## Wrangling"
   ]
  },
  {
   "cell_type": "markdown",
   "id": "370dd66d-8c72-457b-b85d-8d0136faf2d0",
   "metadata": {},
   "source": [
    "### Rename Columns"
   ]
  },
  {
   "cell_type": "code",
   "execution_count": 4,
   "id": "ac020d6e-2b6f-48c3-8e55-eedec0d7ce3c",
   "metadata": {},
   "outputs": [],
   "source": [
    "NYR.rename(columns={'tweet_created' : 'Date', 'tweet_text' : 'Tweet', 'tweet_category' : 'Category', 'tweet_topics' : 'Topics', 'tweet_location' : 'Location', 'tweet_state' : 'State', 'tweet_region' : 'Region', 'user_timezone' : 'TZ', 'user_gender' : 'Gender'}, inplace=True)"
   ]
  },
  {
   "cell_type": "code",
   "execution_count": 5,
   "id": "2e475e99-246c-4015-8cae-e83373714ceb",
   "metadata": {},
   "outputs": [
    {
     "data": {
      "text/html": [
       "<div>\n",
       "<style scoped>\n",
       "    .dataframe tbody tr th:only-of-type {\n",
       "        vertical-align: middle;\n",
       "    }\n",
       "\n",
       "    .dataframe tbody tr th {\n",
       "        vertical-align: top;\n",
       "    }\n",
       "\n",
       "    .dataframe thead th {\n",
       "        text-align: right;\n",
       "    }\n",
       "</style>\n",
       "<table border=\"1\" class=\"dataframe\">\n",
       "  <thead>\n",
       "    <tr style=\"text-align: right;\">\n",
       "      <th></th>\n",
       "      <th>Date</th>\n",
       "      <th>Tweet</th>\n",
       "      <th>Category</th>\n",
       "      <th>Topics</th>\n",
       "      <th>Location</th>\n",
       "      <th>State</th>\n",
       "      <th>Region</th>\n",
       "      <th>TZ</th>\n",
       "      <th>Gender</th>\n",
       "      <th>retweet_count</th>\n",
       "    </tr>\n",
       "  </thead>\n",
       "  <tbody>\n",
       "    <tr>\n",
       "      <th>0</th>\n",
       "      <td>2014-12-21 16:11:00</td>\n",
       "      <td>#NewYearsResolution to not put the parking lot...</td>\n",
       "      <td>Humor</td>\n",
       "      <td>Humor about Personal Growth and Interests Reso...</td>\n",
       "      <td>City of Angels, CA</td>\n",
       "      <td>CA</td>\n",
       "      <td>West</td>\n",
       "      <td>Pacific Time (US &amp; Canada)</td>\n",
       "      <td>male</td>\n",
       "      <td>NaN</td>\n",
       "    </tr>\n",
       "    <tr>\n",
       "      <th>1</th>\n",
       "      <td>2014-12-21 16:16:00</td>\n",
       "      <td>I got the hair. I just need to work on the bod...</td>\n",
       "      <td>Health &amp; Fitness</td>\n",
       "      <td>Improve my body</td>\n",
       "      <td>Arlington, TX</td>\n",
       "      <td>TX</td>\n",
       "      <td>South</td>\n",
       "      <td>Central Time (US &amp; Canada)</td>\n",
       "      <td>male</td>\n",
       "      <td>NaN</td>\n",
       "    </tr>\n",
       "    <tr>\n",
       "      <th>2</th>\n",
       "      <td>2014-12-21 16:30:00</td>\n",
       "      <td>Self improvement!.. Mentally, physically, and ...</td>\n",
       "      <td>Personal Growth</td>\n",
       "      <td>Improve my attitude</td>\n",
       "      <td>Las Vegas, NV</td>\n",
       "      <td>NV</td>\n",
       "      <td>West</td>\n",
       "      <td>Central Time (US &amp; Canada)</td>\n",
       "      <td>male</td>\n",
       "      <td>NaN</td>\n",
       "    </tr>\n",
       "    <tr>\n",
       "      <th>3</th>\n",
       "      <td>2014-12-21 17:51:00</td>\n",
       "      <td>I've decided to get pregnant in #2015 #NewYear...</td>\n",
       "      <td>Humor</td>\n",
       "      <td>Humor about Family/Friends/Relationships Resol...</td>\n",
       "      <td>Ft. Luderdale, Florida</td>\n",
       "      <td>FL</td>\n",
       "      <td>South</td>\n",
       "      <td>NaN</td>\n",
       "      <td>male</td>\n",
       "      <td>NaN</td>\n",
       "    </tr>\n",
       "    <tr>\n",
       "      <th>4</th>\n",
       "      <td>2014-12-21 18:09:00</td>\n",
       "      <td>All I want for Christmas is to be Carrie Under...</td>\n",
       "      <td>Personal Growth</td>\n",
       "      <td>Other</td>\n",
       "      <td>South Carolina</td>\n",
       "      <td>SC</td>\n",
       "      <td>South</td>\n",
       "      <td>Pacific Time (US &amp; Canada)</td>\n",
       "      <td>female</td>\n",
       "      <td>NaN</td>\n",
       "    </tr>\n",
       "  </tbody>\n",
       "</table>\n",
       "</div>"
      ],
      "text/plain": [
       "                  Date                                              Tweet  \\\n",
       "0  2014-12-21 16:11:00  #NewYearsResolution to not put the parking lot...   \n",
       "1  2014-12-21 16:16:00  I got the hair. I just need to work on the bod...   \n",
       "2  2014-12-21 16:30:00  Self improvement!.. Mentally, physically, and ...   \n",
       "3  2014-12-21 17:51:00  I've decided to get pregnant in #2015 #NewYear...   \n",
       "4  2014-12-21 18:09:00  All I want for Christmas is to be Carrie Under...   \n",
       "\n",
       "           Category                                             Topics  \\\n",
       "0             Humor  Humor about Personal Growth and Interests Reso...   \n",
       "1  Health & Fitness                                    Improve my body   \n",
       "2   Personal Growth                                Improve my attitude   \n",
       "3             Humor  Humor about Family/Friends/Relationships Resol...   \n",
       "4   Personal Growth                                              Other   \n",
       "\n",
       "                 Location State Region                          TZ  Gender  \\\n",
       "0      City of Angels, CA    CA   West  Pacific Time (US & Canada)    male   \n",
       "1           Arlington, TX    TX  South  Central Time (US & Canada)    male   \n",
       "2           Las Vegas, NV    NV   West  Central Time (US & Canada)    male   \n",
       "3  Ft. Luderdale, Florida    FL  South                         NaN    male   \n",
       "4          South Carolina    SC  South  Pacific Time (US & Canada)  female   \n",
       "\n",
       "   retweet_count  \n",
       "0            NaN  \n",
       "1            NaN  \n",
       "2            NaN  \n",
       "3            NaN  \n",
       "4            NaN  "
      ]
     },
     "execution_count": 5,
     "metadata": {},
     "output_type": "execute_result"
    }
   ],
   "source": [
    "NYR.head()"
   ]
  },
  {
   "cell_type": "markdown",
   "id": "b4052d75-3770-4774-af0a-6af923c1915b",
   "metadata": {},
   "source": [
    "### Drop Columns"
   ]
  },
  {
   "cell_type": "code",
   "execution_count": 6,
   "id": "7e5b9023-45e1-4596-a02a-7a471d8ce4e7",
   "metadata": {},
   "outputs": [],
   "source": [
    "NYRtrim = NYR.drop(['Location', 'retweet_count', 'TZ'], axis=1)"
   ]
  },
  {
   "cell_type": "code",
   "execution_count": 7,
   "id": "f3bd54da-7db2-41ce-87e6-063ede85b593",
   "metadata": {},
   "outputs": [
    {
     "data": {
      "text/html": [
       "<div>\n",
       "<style scoped>\n",
       "    .dataframe tbody tr th:only-of-type {\n",
       "        vertical-align: middle;\n",
       "    }\n",
       "\n",
       "    .dataframe tbody tr th {\n",
       "        vertical-align: top;\n",
       "    }\n",
       "\n",
       "    .dataframe thead th {\n",
       "        text-align: right;\n",
       "    }\n",
       "</style>\n",
       "<table border=\"1\" class=\"dataframe\">\n",
       "  <thead>\n",
       "    <tr style=\"text-align: right;\">\n",
       "      <th></th>\n",
       "      <th>Date</th>\n",
       "      <th>Tweet</th>\n",
       "      <th>Category</th>\n",
       "      <th>Topics</th>\n",
       "      <th>State</th>\n",
       "      <th>Region</th>\n",
       "      <th>Gender</th>\n",
       "    </tr>\n",
       "  </thead>\n",
       "  <tbody>\n",
       "    <tr>\n",
       "      <th>0</th>\n",
       "      <td>2014-12-21 16:11:00</td>\n",
       "      <td>#NewYearsResolution to not put the parking lot...</td>\n",
       "      <td>Humor</td>\n",
       "      <td>Humor about Personal Growth and Interests Reso...</td>\n",
       "      <td>CA</td>\n",
       "      <td>West</td>\n",
       "      <td>male</td>\n",
       "    </tr>\n",
       "    <tr>\n",
       "      <th>1</th>\n",
       "      <td>2014-12-21 16:16:00</td>\n",
       "      <td>I got the hair. I just need to work on the bod...</td>\n",
       "      <td>Health &amp; Fitness</td>\n",
       "      <td>Improve my body</td>\n",
       "      <td>TX</td>\n",
       "      <td>South</td>\n",
       "      <td>male</td>\n",
       "    </tr>\n",
       "    <tr>\n",
       "      <th>2</th>\n",
       "      <td>2014-12-21 16:30:00</td>\n",
       "      <td>Self improvement!.. Mentally, physically, and ...</td>\n",
       "      <td>Personal Growth</td>\n",
       "      <td>Improve my attitude</td>\n",
       "      <td>NV</td>\n",
       "      <td>West</td>\n",
       "      <td>male</td>\n",
       "    </tr>\n",
       "    <tr>\n",
       "      <th>3</th>\n",
       "      <td>2014-12-21 17:51:00</td>\n",
       "      <td>I've decided to get pregnant in #2015 #NewYear...</td>\n",
       "      <td>Humor</td>\n",
       "      <td>Humor about Family/Friends/Relationships Resol...</td>\n",
       "      <td>FL</td>\n",
       "      <td>South</td>\n",
       "      <td>male</td>\n",
       "    </tr>\n",
       "    <tr>\n",
       "      <th>4</th>\n",
       "      <td>2014-12-21 18:09:00</td>\n",
       "      <td>All I want for Christmas is to be Carrie Under...</td>\n",
       "      <td>Personal Growth</td>\n",
       "      <td>Other</td>\n",
       "      <td>SC</td>\n",
       "      <td>South</td>\n",
       "      <td>female</td>\n",
       "    </tr>\n",
       "  </tbody>\n",
       "</table>\n",
       "</div>"
      ],
      "text/plain": [
       "                  Date                                              Tweet  \\\n",
       "0  2014-12-21 16:11:00  #NewYearsResolution to not put the parking lot...   \n",
       "1  2014-12-21 16:16:00  I got the hair. I just need to work on the bod...   \n",
       "2  2014-12-21 16:30:00  Self improvement!.. Mentally, physically, and ...   \n",
       "3  2014-12-21 17:51:00  I've decided to get pregnant in #2015 #NewYear...   \n",
       "4  2014-12-21 18:09:00  All I want for Christmas is to be Carrie Under...   \n",
       "\n",
       "           Category                                             Topics State  \\\n",
       "0             Humor  Humor about Personal Growth and Interests Reso...    CA   \n",
       "1  Health & Fitness                                    Improve my body    TX   \n",
       "2   Personal Growth                                Improve my attitude    NV   \n",
       "3             Humor  Humor about Family/Friends/Relationships Resol...    FL   \n",
       "4   Personal Growth                                              Other    SC   \n",
       "\n",
       "  Region  Gender  \n",
       "0   West    male  \n",
       "1  South    male  \n",
       "2   West    male  \n",
       "3  South    male  \n",
       "4  South  female  "
      ]
     },
     "execution_count": 7,
     "metadata": {},
     "output_type": "execute_result"
    }
   ],
   "source": [
    "NYRtrim.head()"
   ]
  },
  {
   "cell_type": "markdown",
   "id": "ff786428-a23c-49b2-a269-0b6999093a2e",
   "metadata": {},
   "source": [
    "# Analysis"
   ]
  },
  {
   "cell_type": "markdown",
   "id": "a8eb10e6-de5f-4459-af50-67f03491e58a",
   "metadata": {},
   "source": [
    "## Goodness of Fit Chi Square"
   ]
  },
  {
   "cell_type": "code",
   "execution_count": 8,
   "id": "dd6d54cc-7ae8-4453-9f96-a4c614458d8c",
   "metadata": {},
   "outputs": [
    {
     "data": {
      "text/plain": [
       "female    2367\n",
       "male      2356\n",
       "Name: Gender, dtype: int64"
      ]
     },
     "execution_count": 8,
     "metadata": {},
     "output_type": "execute_result"
    }
   ],
   "source": [
    "NYRtrim.Gender.value_counts()"
   ]
  },
  {
   "cell_type": "markdown",
   "id": "63e89f63-65f5-4ee8-837d-369546b4b9a3",
   "metadata": {},
   "source": [
    "### Run the Analysis"
   ]
  },
  {
   "cell_type": "code",
   "execution_count": 9,
   "id": "5e1f53c3-9bb4-4fa8-8518-be9c9c8e873b",
   "metadata": {},
   "outputs": [
    {
     "name": "stderr",
     "output_type": "stream",
     "text": [
      "C:\\Users\\Repai\\AppData\\Local\\Temp\\ipykernel_2312\\3764035861.py:1: DeprecationWarning: scipy.array is deprecated and will be removed in SciPy 2.0.0, use numpy.array instead\n",
      "  observed_values_MF = scipy.array([2367, 2356])\n"
     ]
    }
   ],
   "source": [
    "observed_values_MF = scipy.array([2367, 2356])"
   ]
  },
  {
   "cell_type": "markdown",
   "id": "6bf03eb9-79e2-4868-9c98-a9f48ac0c092",
   "metadata": {},
   "source": [
    "### Create Variable for Expected Values"
   ]
  },
  {
   "cell_type": "markdown",
   "id": "0b1dd68f-f78c-4cc1-bdc4-e0c562ded55c",
   "metadata": {},
   "source": [
    "#### 2367 + 2356 = 4723, 4723 * .9 = 4251 (90%), 4723 - 4251 = 472"
   ]
  },
  {
   "cell_type": "code",
   "execution_count": 10,
   "id": "823a6bcf-ffa0-44ce-b771-478b455fe754",
   "metadata": {},
   "outputs": [
    {
     "name": "stderr",
     "output_type": "stream",
     "text": [
      "C:\\Users\\Repai\\AppData\\Local\\Temp\\ipykernel_2312\\3954925786.py:1: DeprecationWarning: scipy.array is deprecated and will be removed in SciPy 2.0.0, use numpy.array instead\n",
      "  expected_values_MF = scipy.array([4251, 472])\n"
     ]
    }
   ],
   "source": [
    "expected_values_MF = scipy.array([4251, 472])"
   ]
  },
  {
   "cell_type": "code",
   "execution_count": 11,
   "id": "b3cb15dd-8726-4c79-8225-b659673d5a7a",
   "metadata": {},
   "outputs": [
    {
     "data": {
      "text/plain": [
       "Power_divergenceResult(statistic=8355.003552504097, pvalue=0.0)"
      ]
     },
     "execution_count": 11,
     "metadata": {},
     "output_type": "execute_result"
    }
   ],
   "source": [
    "scipy.stats.chisquare(observed_values_MF, f_exp=expected_values_MF)"
   ]
  },
  {
   "cell_type": "markdown",
   "id": "528f9cca-8534-4394-bcca-44d7971c786c",
   "metadata": {},
   "source": [
    "## Independent t-test"
   ]
  },
  {
   "cell_type": "markdown",
   "id": "bc4eb617-b622-4682-8d72-aa5d03de4b7d",
   "metadata": {},
   "source": [
    "## Wrangling"
   ]
  },
  {
   "cell_type": "markdown",
   "id": "267d720b-d891-458b-a6f2-30c5f6a9e564",
   "metadata": {},
   "source": [
    "### Recoding"
   ]
  },
  {
   "cell_type": "code",
   "execution_count": 12,
   "id": "5ff3516e-456b-4ff5-bbc7-dcfee76f6c1b",
   "metadata": {},
   "outputs": [],
   "source": [
    "def recode (series):\n",
    "    if series == \"female\":\n",
    "        return 0\n",
    "    if series == \"male\":\n",
    "        return 1\n",
    "NYRtrim['Genderr'] = NYRtrim['Gender'].apply(recode)"
   ]
  },
  {
   "cell_type": "code",
   "execution_count": 13,
   "id": "72b6a4cb-8414-4752-9f9e-bd9293b603da",
   "metadata": {},
   "outputs": [],
   "source": [
    "def recode (series):\n",
    "    if series == \"Humor\":\n",
    "        return 1\n",
    "    if series == \"Health & Fitness\":\n",
    "        return 2\n",
    "    if series == \"Personal Growth\":\n",
    "        return 3\n",
    "    if series == \"Finance\":\n",
    "        return 4\n",
    "    if series == \"Philanthropic\":\n",
    "        return 5\n",
    "    if series == \"Recreation & Leisure\":\n",
    "        return 6\n",
    "    if series == \"Time Management/Organization\":\n",
    "        return 7\n",
    "    if series == \"Family/Friends/Relationships\":\n",
    "        return 8\n",
    "    if series == \"Career\":\n",
    "        return 9\n",
    "    if series == \"Education/Training\":\n",
    "        return 10\n",
    "NYRtrim['Categoryr'] = NYRtrim['Category'].apply(recode)"
   ]
  },
  {
   "cell_type": "code",
   "execution_count": 34,
   "id": "3a9537a0-57aa-425b-b22e-da035be1d889",
   "metadata": {},
   "outputs": [
    {
     "data": {
      "text/html": [
       "<div>\n",
       "<style scoped>\n",
       "    .dataframe tbody tr th:only-of-type {\n",
       "        vertical-align: middle;\n",
       "    }\n",
       "\n",
       "    .dataframe tbody tr th {\n",
       "        vertical-align: top;\n",
       "    }\n",
       "\n",
       "    .dataframe thead th {\n",
       "        text-align: right;\n",
       "    }\n",
       "</style>\n",
       "<table border=\"1\" class=\"dataframe\">\n",
       "  <thead>\n",
       "    <tr style=\"text-align: right;\">\n",
       "      <th></th>\n",
       "      <th>Date</th>\n",
       "      <th>Tweet</th>\n",
       "      <th>Category</th>\n",
       "      <th>Topics</th>\n",
       "      <th>State</th>\n",
       "      <th>Region</th>\n",
       "      <th>Gender</th>\n",
       "      <th>Genderr</th>\n",
       "      <th>Categoryr</th>\n",
       "    </tr>\n",
       "  </thead>\n",
       "  <tbody>\n",
       "    <tr>\n",
       "      <th>0</th>\n",
       "      <td>2014-12-21 16:11:00</td>\n",
       "      <td>#NewYearsResolution to not put the parking lot...</td>\n",
       "      <td>Humor</td>\n",
       "      <td>Humor about Personal Growth and Interests Reso...</td>\n",
       "      <td>CA</td>\n",
       "      <td>West</td>\n",
       "      <td>male</td>\n",
       "      <td>1</td>\n",
       "      <td>1</td>\n",
       "    </tr>\n",
       "    <tr>\n",
       "      <th>1</th>\n",
       "      <td>2014-12-21 16:16:00</td>\n",
       "      <td>I got the hair. I just need to work on the bod...</td>\n",
       "      <td>Health &amp; Fitness</td>\n",
       "      <td>Improve my body</td>\n",
       "      <td>TX</td>\n",
       "      <td>South</td>\n",
       "      <td>male</td>\n",
       "      <td>1</td>\n",
       "      <td>2</td>\n",
       "    </tr>\n",
       "    <tr>\n",
       "      <th>2</th>\n",
       "      <td>2014-12-21 16:30:00</td>\n",
       "      <td>Self improvement!.. Mentally, physically, and ...</td>\n",
       "      <td>Personal Growth</td>\n",
       "      <td>Improve my attitude</td>\n",
       "      <td>NV</td>\n",
       "      <td>West</td>\n",
       "      <td>male</td>\n",
       "      <td>1</td>\n",
       "      <td>3</td>\n",
       "    </tr>\n",
       "    <tr>\n",
       "      <th>3</th>\n",
       "      <td>2014-12-21 17:51:00</td>\n",
       "      <td>I've decided to get pregnant in #2015 #NewYear...</td>\n",
       "      <td>Humor</td>\n",
       "      <td>Humor about Family/Friends/Relationships Resol...</td>\n",
       "      <td>FL</td>\n",
       "      <td>South</td>\n",
       "      <td>male</td>\n",
       "      <td>1</td>\n",
       "      <td>1</td>\n",
       "    </tr>\n",
       "    <tr>\n",
       "      <th>4</th>\n",
       "      <td>2014-12-21 18:09:00</td>\n",
       "      <td>All I want for Christmas is to be Carrie Under...</td>\n",
       "      <td>Personal Growth</td>\n",
       "      <td>Other</td>\n",
       "      <td>SC</td>\n",
       "      <td>South</td>\n",
       "      <td>female</td>\n",
       "      <td>0</td>\n",
       "      <td>3</td>\n",
       "    </tr>\n",
       "  </tbody>\n",
       "</table>\n",
       "</div>"
      ],
      "text/plain": [
       "                  Date                                              Tweet  \\\n",
       "0  2014-12-21 16:11:00  #NewYearsResolution to not put the parking lot...   \n",
       "1  2014-12-21 16:16:00  I got the hair. I just need to work on the bod...   \n",
       "2  2014-12-21 16:30:00  Self improvement!.. Mentally, physically, and ...   \n",
       "3  2014-12-21 17:51:00  I've decided to get pregnant in #2015 #NewYear...   \n",
       "4  2014-12-21 18:09:00  All I want for Christmas is to be Carrie Under...   \n",
       "\n",
       "           Category                                             Topics State  \\\n",
       "0             Humor  Humor about Personal Growth and Interests Reso...    CA   \n",
       "1  Health & Fitness                                    Improve my body    TX   \n",
       "2   Personal Growth                                Improve my attitude    NV   \n",
       "3             Humor  Humor about Family/Friends/Relationships Resol...    FL   \n",
       "4   Personal Growth                                              Other    SC   \n",
       "\n",
       "  Region  Gender  Genderr  Categoryr  \n",
       "0   West    male        1          1  \n",
       "1  South    male        1          2  \n",
       "2   West    male        1          3  \n",
       "3  South    male        1          1  \n",
       "4  South  female        0          3  "
      ]
     },
     "execution_count": 34,
     "metadata": {},
     "output_type": "execute_result"
    }
   ],
   "source": [
    "NYRtrim.head()"
   ]
  },
  {
   "cell_type": "markdown",
   "id": "4e9aeb79-d4cf-44f1-a130-af21b760214c",
   "metadata": {},
   "source": [
    "### Run the Analysis"
   ]
  },
  {
   "cell_type": "code",
   "execution_count": 40,
   "id": "7abe34c8-69d8-476f-ac4d-717facd7e120",
   "metadata": {},
   "outputs": [
    {
     "data": {
      "text/plain": [
       "Ttest_indResult(statistic=86.45681341155864, pvalue=0.0)"
      ]
     },
     "execution_count": 40,
     "metadata": {},
     "output_type": "execute_result"
    }
   ],
   "source": [
    "ttest_ind(NYRtrim[\"Categoryr\"], NYRtrim[\"Genderr\"])"
   ]
  },
  {
   "cell_type": "code",
   "execution_count": null,
   "id": "b3cb4663-3549-4b36-aa34-19d65a49c99c",
   "metadata": {},
   "outputs": [],
   "source": []
  }
 ],
 "metadata": {
  "kernelspec": {
   "display_name": "Python 3.10.8 64-bit",
   "language": "python",
   "name": "python3"
  },
  "language_info": {
   "codemirror_mode": {
    "name": "ipython",
    "version": 3
   },
   "file_extension": ".py",
   "mimetype": "text/x-python",
   "name": "python",
   "nbconvert_exporter": "python",
   "pygments_lexer": "ipython3",
   "version": "3.10.8"
  },
  "vscode": {
   "interpreter": {
    "hash": "3bd13bc16400e16874b7ce28af58a129343287e94248a182c1f06fbb6b76ef8e"
   }
  }
 },
 "nbformat": 4,
 "nbformat_minor": 5
}
