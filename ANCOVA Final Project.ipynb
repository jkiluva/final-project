{
 "cells": [
  {
   "cell_type": "markdown",
   "id": "3f9151d5",
   "metadata": {},
   "source": [
    "# Load Libraries\n"
   ]
  },
  {
   "cell_type": "code",
   "execution_count": 66,
   "id": "75350dd9",
   "metadata": {
    "vscode": {
     "languageId": "r"
    }
   },
   "outputs": [],
   "source": [
    "library(\"rcompanion\")\n",
    "library(\"car\")\n",
    "library(\"effects\")\n",
    "library(\"multcomp\")\n",
    "library(\"dplyr\")"
   ]
  },
  {
   "cell_type": "markdown",
   "id": "fb74503a",
   "metadata": {},
   "source": [
    "# Load in Data\n"
   ]
  },
  {
   "cell_type": "code",
   "execution_count": 67,
   "id": "2e674eee",
   "metadata": {
    "vscode": {
     "languageId": "r"
    }
   },
   "outputs": [],
   "source": [
    "NYR=read.csv(\"/Users/jeannekiluva/Desktop/New_years_resolutions.csv\")"
   ]
  },
  {
   "cell_type": "code",
   "execution_count": 68,
   "id": "780eaed3",
   "metadata": {
    "vscode": {
     "languageId": "r"
    }
   },
   "outputs": [
    {
     "data": {
      "text/html": [
       "<table class=\"dataframe\">\n",
       "<caption>A data.frame: 6 × 10</caption>\n",
       "<thead>\n",
       "\t<tr><th></th><th scope=col>tweet_created</th><th scope=col>tweet_text</th><th scope=col>tweet_category</th><th scope=col>tweet_topics</th><th scope=col>tweet_location</th><th scope=col>tweet_state</th><th scope=col>tweet_region</th><th scope=col>user_timezone</th><th scope=col>user_gender</th><th scope=col>retweet_count</th></tr>\n",
       "\t<tr><th></th><th scope=col>&lt;chr&gt;</th><th scope=col>&lt;chr&gt;</th><th scope=col>&lt;chr&gt;</th><th scope=col>&lt;chr&gt;</th><th scope=col>&lt;chr&gt;</th><th scope=col>&lt;chr&gt;</th><th scope=col>&lt;chr&gt;</th><th scope=col>&lt;chr&gt;</th><th scope=col>&lt;chr&gt;</th><th scope=col>&lt;int&gt;</th></tr>\n",
       "</thead>\n",
       "<tbody>\n",
       "\t<tr><th scope=row>1</th><td>2014-12-21 16:11:00</td><td><span style=white-space:pre-wrap>#NewYearsResolution to not put the parking lot ticket directly in my mouth right after getting it from the machine #ew                          </span></td><td><span style=white-space:pre-wrap>Humor           </span></td><td>Humor about Personal Growth and Interests Resolutions</td><td><span style=white-space:pre-wrap>City of Angels, CA    </span></td><td>CA</td><td><span style=white-space:pre-wrap>West     </span></td><td>Pacific Time (US &amp; Canada)</td><td><span style=white-space:pre-wrap>male  </span></td><td>NA</td></tr>\n",
       "\t<tr><th scope=row>2</th><td>2014-12-21 16:16:00</td><td><span style=white-space:pre-wrap>I got the hair. I just need to work on the body to pull off Lara Croft next Halloween #NewYearsResolution http://t.co/Ihqh5Z7prx                </span></td><td>Health &amp; Fitness</td><td><span style=white-space:pre-wrap>Improve my body                                      </span></td><td><span style=white-space:pre-wrap>Arlington, TX         </span></td><td>TX</td><td><span style=white-space:pre-wrap>South    </span></td><td>Central Time (US &amp; Canada)</td><td><span style=white-space:pre-wrap>male  </span></td><td>NA</td></tr>\n",
       "\t<tr><th scope=row>3</th><td>2014-12-21 16:30:00</td><td><span style=white-space:pre-wrap>Self improvement!.. Mentally, physically, and financially. #NewYearsResolution                                                                  </span></td><td>Personal Growth </td><td><span style=white-space:pre-wrap>Improve my attitude                                  </span></td><td><span style=white-space:pre-wrap>Las Vegas, NV         </span></td><td>NV</td><td><span style=white-space:pre-wrap>West     </span></td><td>Central Time (US &amp; Canada)</td><td><span style=white-space:pre-wrap>male  </span></td><td>NA</td></tr>\n",
       "\t<tr><th scope=row>4</th><td>2014-12-21 17:51:00</td><td>I've decided to get pregnant in #2015 #NewYearsResolution                                                                                       </td><td>Humor           </td><td>Humor about Family/Friends/Relationships Resolutions </td><td>Ft. Luderdale, Florida</td><td>FL</td><td>South    </td><td>                          </td><td>male  </td><td>NA</td></tr>\n",
       "\t<tr><th scope=row>5</th><td>2014-12-21 18:09:00</td><td><span style=white-space:pre-wrap>All I want for Christmas is to be Carrie Underwood. #NewYearsResolution                                                                         </span></td><td>Personal Growth </td><td><span style=white-space:pre-wrap>Other                                                </span></td><td><span style=white-space:pre-wrap>South Carolina        </span></td><td>SC</td><td><span style=white-space:pre-wrap>South    </span></td><td>Pacific Time (US &amp; Canada)</td><td>female</td><td>NA</td></tr>\n",
       "\t<tr><th scope=row>6</th><td>2014-12-21 18:18:00</td><td>Note to self: \"Stop being lazy &amp;amp; get back into hot yoga.\" I have a monthly pass, so no excuses! #hotyoga #newyearsresolution #healthiswealth</td><td>Health &amp; Fitness</td><td><span style=white-space:pre-wrap>Excersize More                                       </span></td><td><span style=white-space:pre-wrap>NYC                   </span></td><td>NY</td><td>Northeast</td><td><span style=white-space:pre-wrap>Quito                     </span></td><td>female</td><td>NA</td></tr>\n",
       "</tbody>\n",
       "</table>\n"
      ],
      "text/latex": [
       "A data.frame: 6 × 10\n",
       "\\begin{tabular}{r|llllllllll}\n",
       "  & tweet\\_created & tweet\\_text & tweet\\_category & tweet\\_topics & tweet\\_location & tweet\\_state & tweet\\_region & user\\_timezone & user\\_gender & retweet\\_count\\\\\n",
       "  & <chr> & <chr> & <chr> & <chr> & <chr> & <chr> & <chr> & <chr> & <chr> & <int>\\\\\n",
       "\\hline\n",
       "\t1 & 2014-12-21 16:11:00 & \\#NewYearsResolution to not put the parking lot ticket directly in my mouth right after getting it from the machine \\#ew                           & Humor            & Humor about Personal Growth and Interests Resolutions & City of Angels, CA     & CA & West      & Pacific Time (US \\& Canada) & male   & NA\\\\\n",
       "\t2 & 2014-12-21 16:16:00 & I got the hair. I just need to work on the body to pull off Lara Croft next Halloween \\#NewYearsResolution http://t.co/Ihqh5Z7prx                 & Health \\& Fitness & Improve my body                                       & Arlington, TX          & TX & South     & Central Time (US \\& Canada) & male   & NA\\\\\n",
       "\t3 & 2014-12-21 16:30:00 & Self improvement!.. Mentally, physically, and financially. \\#NewYearsResolution                                                                   & Personal Growth  & Improve my attitude                                   & Las Vegas, NV          & NV & West      & Central Time (US \\& Canada) & male   & NA\\\\\n",
       "\t4 & 2014-12-21 17:51:00 & I've decided to get pregnant in \\#2015 \\#NewYearsResolution                                                                                        & Humor            & Humor about Family/Friends/Relationships Resolutions  & Ft. Luderdale, Florida & FL & South     &                            & male   & NA\\\\\n",
       "\t5 & 2014-12-21 18:09:00 & All I want for Christmas is to be Carrie Underwood. \\#NewYearsResolution                                                                          & Personal Growth  & Other                                                 & South Carolina         & SC & South     & Pacific Time (US \\& Canada) & female & NA\\\\\n",
       "\t6 & 2014-12-21 18:18:00 & Note to self: \"Stop being lazy \\&amp; get back into hot yoga.\" I have a monthly pass, so no excuses! \\#hotyoga \\#newyearsresolution \\#healthiswealth & Health \\& Fitness & Excersize More                                        & NYC                    & NY & Northeast & Quito                      & female & NA\\\\\n",
       "\\end{tabular}\n"
      ],
      "text/markdown": [
       "\n",
       "A data.frame: 6 × 10\n",
       "\n",
       "| <!--/--> | tweet_created &lt;chr&gt; | tweet_text &lt;chr&gt; | tweet_category &lt;chr&gt; | tweet_topics &lt;chr&gt; | tweet_location &lt;chr&gt; | tweet_state &lt;chr&gt; | tweet_region &lt;chr&gt; | user_timezone &lt;chr&gt; | user_gender &lt;chr&gt; | retweet_count &lt;int&gt; |\n",
       "|---|---|---|---|---|---|---|---|---|---|---|\n",
       "| 1 | 2014-12-21 16:11:00 | #NewYearsResolution to not put the parking lot ticket directly in my mouth right after getting it from the machine #ew                           | Humor            | Humor about Personal Growth and Interests Resolutions | City of Angels, CA     | CA | West      | Pacific Time (US &amp; Canada) | male   | NA |\n",
       "| 2 | 2014-12-21 16:16:00 | I got the hair. I just need to work on the body to pull off Lara Croft next Halloween #NewYearsResolution http://t.co/Ihqh5Z7prx                 | Health &amp; Fitness | Improve my body                                       | Arlington, TX          | TX | South     | Central Time (US &amp; Canada) | male   | NA |\n",
       "| 3 | 2014-12-21 16:30:00 | Self improvement!.. Mentally, physically, and financially. #NewYearsResolution                                                                   | Personal Growth  | Improve my attitude                                   | Las Vegas, NV          | NV | West      | Central Time (US &amp; Canada) | male   | NA |\n",
       "| 4 | 2014-12-21 17:51:00 | I've decided to get pregnant in #2015 #NewYearsResolution                                                                                        | Humor            | Humor about Family/Friends/Relationships Resolutions  | Ft. Luderdale, Florida | FL | South     | <!----> | male   | NA |\n",
       "| 5 | 2014-12-21 18:09:00 | All I want for Christmas is to be Carrie Underwood. #NewYearsResolution                                                                          | Personal Growth  | Other                                                 | South Carolina         | SC | South     | Pacific Time (US &amp; Canada) | female | NA |\n",
       "| 6 | 2014-12-21 18:18:00 | Note to self: \"Stop being lazy &amp;amp; get back into hot yoga.\" I have a monthly pass, so no excuses! #hotyoga #newyearsresolution #healthiswealth | Health &amp; Fitness | Excersize More                                        | NYC                    | NY | Northeast | Quito                      | female | NA |\n",
       "\n"
      ],
      "text/plain": [
       "  tweet_created      \n",
       "1 2014-12-21 16:11:00\n",
       "2 2014-12-21 16:16:00\n",
       "3 2014-12-21 16:30:00\n",
       "4 2014-12-21 17:51:00\n",
       "5 2014-12-21 18:09:00\n",
       "6 2014-12-21 18:18:00\n",
       "  tweet_text                                                                                                                                      \n",
       "1 #NewYearsResolution to not put the parking lot ticket directly in my mouth right after getting it from the machine #ew                          \n",
       "2 I got the hair. I just need to work on the body to pull off Lara Croft next Halloween #NewYearsResolution http://t.co/Ihqh5Z7prx                \n",
       "3 Self improvement!.. Mentally, physically, and financially. #NewYearsResolution                                                                  \n",
       "4 I've decided to get pregnant in #2015 #NewYearsResolution                                                                                       \n",
       "5 All I want for Christmas is to be Carrie Underwood. #NewYearsResolution                                                                         \n",
       "6 Note to self: \"Stop being lazy &amp; get back into hot yoga.\" I have a monthly pass, so no excuses! #hotyoga #newyearsresolution #healthiswealth\n",
       "  tweet_category   tweet_topics                                         \n",
       "1 Humor            Humor about Personal Growth and Interests Resolutions\n",
       "2 Health & Fitness Improve my body                                      \n",
       "3 Personal Growth  Improve my attitude                                  \n",
       "4 Humor            Humor about Family/Friends/Relationships Resolutions \n",
       "5 Personal Growth  Other                                                \n",
       "6 Health & Fitness Excersize More                                       \n",
       "  tweet_location         tweet_state tweet_region user_timezone             \n",
       "1 City of Angels, CA     CA          West         Pacific Time (US & Canada)\n",
       "2 Arlington, TX          TX          South        Central Time (US & Canada)\n",
       "3 Las Vegas, NV          NV          West         Central Time (US & Canada)\n",
       "4 Ft. Luderdale, Florida FL          South                                  \n",
       "5 South Carolina         SC          South        Pacific Time (US & Canada)\n",
       "6 NYC                    NY          Northeast    Quito                     \n",
       "  user_gender retweet_count\n",
       "1 male        NA           \n",
       "2 male        NA           \n",
       "3 male        NA           \n",
       "4 male        NA           \n",
       "5 female      NA           \n",
       "6 female      NA           "
      ]
     },
     "metadata": {},
     "output_type": "display_data"
    }
   ],
   "source": [
    "head(NYR)"
   ]
  },
  {
   "cell_type": "markdown",
   "id": "150fe54e",
   "metadata": {},
   "source": [
    "# Rename Columns"
   ]
  },
  {
   "cell_type": "code",
   "execution_count": 69,
   "id": "0915c507",
   "metadata": {
    "vscode": {
     "languageId": "r"
    }
   },
   "outputs": [],
   "source": [
    "NYR <- NYR%>% rename(Date=tweet_created,Tweet=tweet_text,Category=tweet_category,Topics=tweet_topics,Location=tweet_location,State=tweet_state,Region=tweet_region,TZ=user_timezone,Gender=user_gender)"
   ]
  },
  {
   "cell_type": "code",
   "execution_count": 70,
   "id": "a19a04f8",
   "metadata": {
    "vscode": {
     "languageId": "r"
    }
   },
   "outputs": [
    {
     "data": {
      "text/html": [
       "<table class=\"dataframe\">\n",
       "<caption>A data.frame: 6 × 10</caption>\n",
       "<thead>\n",
       "\t<tr><th></th><th scope=col>Date</th><th scope=col>Tweet</th><th scope=col>Category</th><th scope=col>Topics</th><th scope=col>Location</th><th scope=col>State</th><th scope=col>Region</th><th scope=col>TZ</th><th scope=col>Gender</th><th scope=col>retweet_count</th></tr>\n",
       "\t<tr><th></th><th scope=col>&lt;chr&gt;</th><th scope=col>&lt;chr&gt;</th><th scope=col>&lt;chr&gt;</th><th scope=col>&lt;chr&gt;</th><th scope=col>&lt;chr&gt;</th><th scope=col>&lt;chr&gt;</th><th scope=col>&lt;chr&gt;</th><th scope=col>&lt;chr&gt;</th><th scope=col>&lt;chr&gt;</th><th scope=col>&lt;int&gt;</th></tr>\n",
       "</thead>\n",
       "<tbody>\n",
       "\t<tr><th scope=row>1</th><td>2014-12-21 16:11:00</td><td><span style=white-space:pre-wrap>#NewYearsResolution to not put the parking lot ticket directly in my mouth right after getting it from the machine #ew                          </span></td><td><span style=white-space:pre-wrap>Humor           </span></td><td>Humor about Personal Growth and Interests Resolutions</td><td><span style=white-space:pre-wrap>City of Angels, CA    </span></td><td>CA</td><td><span style=white-space:pre-wrap>West     </span></td><td>Pacific Time (US &amp; Canada)</td><td><span style=white-space:pre-wrap>male  </span></td><td>NA</td></tr>\n",
       "\t<tr><th scope=row>2</th><td>2014-12-21 16:16:00</td><td><span style=white-space:pre-wrap>I got the hair. I just need to work on the body to pull off Lara Croft next Halloween #NewYearsResolution http://t.co/Ihqh5Z7prx                </span></td><td>Health &amp; Fitness</td><td><span style=white-space:pre-wrap>Improve my body                                      </span></td><td><span style=white-space:pre-wrap>Arlington, TX         </span></td><td>TX</td><td><span style=white-space:pre-wrap>South    </span></td><td>Central Time (US &amp; Canada)</td><td><span style=white-space:pre-wrap>male  </span></td><td>NA</td></tr>\n",
       "\t<tr><th scope=row>3</th><td>2014-12-21 16:30:00</td><td><span style=white-space:pre-wrap>Self improvement!.. Mentally, physically, and financially. #NewYearsResolution                                                                  </span></td><td>Personal Growth </td><td><span style=white-space:pre-wrap>Improve my attitude                                  </span></td><td><span style=white-space:pre-wrap>Las Vegas, NV         </span></td><td>NV</td><td><span style=white-space:pre-wrap>West     </span></td><td>Central Time (US &amp; Canada)</td><td><span style=white-space:pre-wrap>male  </span></td><td>NA</td></tr>\n",
       "\t<tr><th scope=row>4</th><td>2014-12-21 17:51:00</td><td>I've decided to get pregnant in #2015 #NewYearsResolution                                                                                       </td><td>Humor           </td><td>Humor about Family/Friends/Relationships Resolutions </td><td>Ft. Luderdale, Florida</td><td>FL</td><td>South    </td><td>                          </td><td>male  </td><td>NA</td></tr>\n",
       "\t<tr><th scope=row>5</th><td>2014-12-21 18:09:00</td><td><span style=white-space:pre-wrap>All I want for Christmas is to be Carrie Underwood. #NewYearsResolution                                                                         </span></td><td>Personal Growth </td><td><span style=white-space:pre-wrap>Other                                                </span></td><td><span style=white-space:pre-wrap>South Carolina        </span></td><td>SC</td><td><span style=white-space:pre-wrap>South    </span></td><td>Pacific Time (US &amp; Canada)</td><td>female</td><td>NA</td></tr>\n",
       "\t<tr><th scope=row>6</th><td>2014-12-21 18:18:00</td><td>Note to self: \"Stop being lazy &amp;amp; get back into hot yoga.\" I have a monthly pass, so no excuses! #hotyoga #newyearsresolution #healthiswealth</td><td>Health &amp; Fitness</td><td><span style=white-space:pre-wrap>Excersize More                                       </span></td><td><span style=white-space:pre-wrap>NYC                   </span></td><td>NY</td><td>Northeast</td><td><span style=white-space:pre-wrap>Quito                     </span></td><td>female</td><td>NA</td></tr>\n",
       "</tbody>\n",
       "</table>\n"
      ],
      "text/latex": [
       "A data.frame: 6 × 10\n",
       "\\begin{tabular}{r|llllllllll}\n",
       "  & Date & Tweet & Category & Topics & Location & State & Region & TZ & Gender & retweet\\_count\\\\\n",
       "  & <chr> & <chr> & <chr> & <chr> & <chr> & <chr> & <chr> & <chr> & <chr> & <int>\\\\\n",
       "\\hline\n",
       "\t1 & 2014-12-21 16:11:00 & \\#NewYearsResolution to not put the parking lot ticket directly in my mouth right after getting it from the machine \\#ew                           & Humor            & Humor about Personal Growth and Interests Resolutions & City of Angels, CA     & CA & West      & Pacific Time (US \\& Canada) & male   & NA\\\\\n",
       "\t2 & 2014-12-21 16:16:00 & I got the hair. I just need to work on the body to pull off Lara Croft next Halloween \\#NewYearsResolution http://t.co/Ihqh5Z7prx                 & Health \\& Fitness & Improve my body                                       & Arlington, TX          & TX & South     & Central Time (US \\& Canada) & male   & NA\\\\\n",
       "\t3 & 2014-12-21 16:30:00 & Self improvement!.. Mentally, physically, and financially. \\#NewYearsResolution                                                                   & Personal Growth  & Improve my attitude                                   & Las Vegas, NV          & NV & West      & Central Time (US \\& Canada) & male   & NA\\\\\n",
       "\t4 & 2014-12-21 17:51:00 & I've decided to get pregnant in \\#2015 \\#NewYearsResolution                                                                                        & Humor            & Humor about Family/Friends/Relationships Resolutions  & Ft. Luderdale, Florida & FL & South     &                            & male   & NA\\\\\n",
       "\t5 & 2014-12-21 18:09:00 & All I want for Christmas is to be Carrie Underwood. \\#NewYearsResolution                                                                          & Personal Growth  & Other                                                 & South Carolina         & SC & South     & Pacific Time (US \\& Canada) & female & NA\\\\\n",
       "\t6 & 2014-12-21 18:18:00 & Note to self: \"Stop being lazy \\&amp; get back into hot yoga.\" I have a monthly pass, so no excuses! \\#hotyoga \\#newyearsresolution \\#healthiswealth & Health \\& Fitness & Excersize More                                        & NYC                    & NY & Northeast & Quito                      & female & NA\\\\\n",
       "\\end{tabular}\n"
      ],
      "text/markdown": [
       "\n",
       "A data.frame: 6 × 10\n",
       "\n",
       "| <!--/--> | Date &lt;chr&gt; | Tweet &lt;chr&gt; | Category &lt;chr&gt; | Topics &lt;chr&gt; | Location &lt;chr&gt; | State &lt;chr&gt; | Region &lt;chr&gt; | TZ &lt;chr&gt; | Gender &lt;chr&gt; | retweet_count &lt;int&gt; |\n",
       "|---|---|---|---|---|---|---|---|---|---|---|\n",
       "| 1 | 2014-12-21 16:11:00 | #NewYearsResolution to not put the parking lot ticket directly in my mouth right after getting it from the machine #ew                           | Humor            | Humor about Personal Growth and Interests Resolutions | City of Angels, CA     | CA | West      | Pacific Time (US &amp; Canada) | male   | NA |\n",
       "| 2 | 2014-12-21 16:16:00 | I got the hair. I just need to work on the body to pull off Lara Croft next Halloween #NewYearsResolution http://t.co/Ihqh5Z7prx                 | Health &amp; Fitness | Improve my body                                       | Arlington, TX          | TX | South     | Central Time (US &amp; Canada) | male   | NA |\n",
       "| 3 | 2014-12-21 16:30:00 | Self improvement!.. Mentally, physically, and financially. #NewYearsResolution                                                                   | Personal Growth  | Improve my attitude                                   | Las Vegas, NV          | NV | West      | Central Time (US &amp; Canada) | male   | NA |\n",
       "| 4 | 2014-12-21 17:51:00 | I've decided to get pregnant in #2015 #NewYearsResolution                                                                                        | Humor            | Humor about Family/Friends/Relationships Resolutions  | Ft. Luderdale, Florida | FL | South     | <!----> | male   | NA |\n",
       "| 5 | 2014-12-21 18:09:00 | All I want for Christmas is to be Carrie Underwood. #NewYearsResolution                                                                          | Personal Growth  | Other                                                 | South Carolina         | SC | South     | Pacific Time (US &amp; Canada) | female | NA |\n",
       "| 6 | 2014-12-21 18:18:00 | Note to self: \"Stop being lazy &amp;amp; get back into hot yoga.\" I have a monthly pass, so no excuses! #hotyoga #newyearsresolution #healthiswealth | Health &amp; Fitness | Excersize More                                        | NYC                    | NY | Northeast | Quito                      | female | NA |\n",
       "\n"
      ],
      "text/plain": [
       "  Date               \n",
       "1 2014-12-21 16:11:00\n",
       "2 2014-12-21 16:16:00\n",
       "3 2014-12-21 16:30:00\n",
       "4 2014-12-21 17:51:00\n",
       "5 2014-12-21 18:09:00\n",
       "6 2014-12-21 18:18:00\n",
       "  Tweet                                                                                                                                           \n",
       "1 #NewYearsResolution to not put the parking lot ticket directly in my mouth right after getting it from the machine #ew                          \n",
       "2 I got the hair. I just need to work on the body to pull off Lara Croft next Halloween #NewYearsResolution http://t.co/Ihqh5Z7prx                \n",
       "3 Self improvement!.. Mentally, physically, and financially. #NewYearsResolution                                                                  \n",
       "4 I've decided to get pregnant in #2015 #NewYearsResolution                                                                                       \n",
       "5 All I want for Christmas is to be Carrie Underwood. #NewYearsResolution                                                                         \n",
       "6 Note to self: \"Stop being lazy &amp; get back into hot yoga.\" I have a monthly pass, so no excuses! #hotyoga #newyearsresolution #healthiswealth\n",
       "  Category         Topics                                               \n",
       "1 Humor            Humor about Personal Growth and Interests Resolutions\n",
       "2 Health & Fitness Improve my body                                      \n",
       "3 Personal Growth  Improve my attitude                                  \n",
       "4 Humor            Humor about Family/Friends/Relationships Resolutions \n",
       "5 Personal Growth  Other                                                \n",
       "6 Health & Fitness Excersize More                                       \n",
       "  Location               State Region    TZ                         Gender\n",
       "1 City of Angels, CA     CA    West      Pacific Time (US & Canada) male  \n",
       "2 Arlington, TX          TX    South     Central Time (US & Canada) male  \n",
       "3 Las Vegas, NV          NV    West      Central Time (US & Canada) male  \n",
       "4 Ft. Luderdale, Florida FL    South                                male  \n",
       "5 South Carolina         SC    South     Pacific Time (US & Canada) female\n",
       "6 NYC                    NY    Northeast Quito                      female\n",
       "  retweet_count\n",
       "1 NA           \n",
       "2 NA           \n",
       "3 NA           \n",
       "4 NA           \n",
       "5 NA           \n",
       "6 NA           "
      ]
     },
     "metadata": {},
     "output_type": "display_data"
    }
   ],
   "source": [
    "head(NYR)"
   ]
  },
  {
   "cell_type": "markdown",
   "id": "c360b182",
   "metadata": {},
   "source": [
    "#Drop Columns"
   ]
  },
  {
   "cell_type": "code",
   "execution_count": 71,
   "id": "d64a07e2",
   "metadata": {
    "vscode": {
     "languageId": "r"
    }
   },
   "outputs": [],
   "source": [
    "NYRtrim = (within(NYR, rm(Location,retweet_count,TZ)))"
   ]
  },
  {
   "cell_type": "code",
   "execution_count": 72,
   "id": "04656479",
   "metadata": {
    "vscode": {
     "languageId": "r"
    }
   },
   "outputs": [
    {
     "data": {
      "text/html": [
       "<table class=\"dataframe\">\n",
       "<caption>A data.frame: 6 × 7</caption>\n",
       "<thead>\n",
       "\t<tr><th></th><th scope=col>Date</th><th scope=col>Tweet</th><th scope=col>Category</th><th scope=col>Topics</th><th scope=col>State</th><th scope=col>Region</th><th scope=col>Gender</th></tr>\n",
       "\t<tr><th></th><th scope=col>&lt;chr&gt;</th><th scope=col>&lt;chr&gt;</th><th scope=col>&lt;chr&gt;</th><th scope=col>&lt;chr&gt;</th><th scope=col>&lt;chr&gt;</th><th scope=col>&lt;chr&gt;</th><th scope=col>&lt;chr&gt;</th></tr>\n",
       "</thead>\n",
       "<tbody>\n",
       "\t<tr><th scope=row>1</th><td>2014-12-21 16:11:00</td><td>#NewYearsResolution to not put the parking lot ticket directly in my mouth right after getting it from the machine #ew                          </td><td>Humor           </td><td>Humor about Personal Growth and Interests Resolutions</td><td>CA</td><td>West     </td><td>male  </td></tr>\n",
       "\t<tr><th scope=row>2</th><td>2014-12-21 16:16:00</td><td><span style=white-space:pre-wrap>I got the hair. I just need to work on the body to pull off Lara Croft next Halloween #NewYearsResolution http://t.co/Ihqh5Z7prx                </span></td><td>Health &amp; Fitness</td><td><span style=white-space:pre-wrap>Improve my body                                      </span></td><td>TX</td><td><span style=white-space:pre-wrap>South    </span></td><td><span style=white-space:pre-wrap>male  </span></td></tr>\n",
       "\t<tr><th scope=row>3</th><td>2014-12-21 16:30:00</td><td>Self improvement!.. Mentally, physically, and financially. #NewYearsResolution                                                                  </td><td>Personal Growth </td><td>Improve my attitude                                  </td><td>NV</td><td>West     </td><td>male  </td></tr>\n",
       "\t<tr><th scope=row>4</th><td>2014-12-21 17:51:00</td><td>I've decided to get pregnant in #2015 #NewYearsResolution                                                                                       </td><td>Humor           </td><td>Humor about Family/Friends/Relationships Resolutions </td><td>FL</td><td>South    </td><td>male  </td></tr>\n",
       "\t<tr><th scope=row>5</th><td>2014-12-21 18:09:00</td><td>All I want for Christmas is to be Carrie Underwood. #NewYearsResolution                                                                         </td><td>Personal Growth </td><td>Other                                                </td><td>SC</td><td>South    </td><td>female</td></tr>\n",
       "\t<tr><th scope=row>6</th><td>2014-12-21 18:18:00</td><td>Note to self: \"Stop being lazy &amp;amp; get back into hot yoga.\" I have a monthly pass, so no excuses! #hotyoga #newyearsresolution #healthiswealth</td><td>Health &amp; Fitness</td><td><span style=white-space:pre-wrap>Excersize More                                       </span></td><td>NY</td><td>Northeast</td><td>female</td></tr>\n",
       "</tbody>\n",
       "</table>\n"
      ],
      "text/latex": [
       "A data.frame: 6 × 7\n",
       "\\begin{tabular}{r|lllllll}\n",
       "  & Date & Tweet & Category & Topics & State & Region & Gender\\\\\n",
       "  & <chr> & <chr> & <chr> & <chr> & <chr> & <chr> & <chr>\\\\\n",
       "\\hline\n",
       "\t1 & 2014-12-21 16:11:00 & \\#NewYearsResolution to not put the parking lot ticket directly in my mouth right after getting it from the machine \\#ew                           & Humor            & Humor about Personal Growth and Interests Resolutions & CA & West      & male  \\\\\n",
       "\t2 & 2014-12-21 16:16:00 & I got the hair. I just need to work on the body to pull off Lara Croft next Halloween \\#NewYearsResolution http://t.co/Ihqh5Z7prx                 & Health \\& Fitness & Improve my body                                       & TX & South     & male  \\\\\n",
       "\t3 & 2014-12-21 16:30:00 & Self improvement!.. Mentally, physically, and financially. \\#NewYearsResolution                                                                   & Personal Growth  & Improve my attitude                                   & NV & West      & male  \\\\\n",
       "\t4 & 2014-12-21 17:51:00 & I've decided to get pregnant in \\#2015 \\#NewYearsResolution                                                                                        & Humor            & Humor about Family/Friends/Relationships Resolutions  & FL & South     & male  \\\\\n",
       "\t5 & 2014-12-21 18:09:00 & All I want for Christmas is to be Carrie Underwood. \\#NewYearsResolution                                                                          & Personal Growth  & Other                                                 & SC & South     & female\\\\\n",
       "\t6 & 2014-12-21 18:18:00 & Note to self: \"Stop being lazy \\&amp; get back into hot yoga.\" I have a monthly pass, so no excuses! \\#hotyoga \\#newyearsresolution \\#healthiswealth & Health \\& Fitness & Excersize More                                        & NY & Northeast & female\\\\\n",
       "\\end{tabular}\n"
      ],
      "text/markdown": [
       "\n",
       "A data.frame: 6 × 7\n",
       "\n",
       "| <!--/--> | Date &lt;chr&gt; | Tweet &lt;chr&gt; | Category &lt;chr&gt; | Topics &lt;chr&gt; | State &lt;chr&gt; | Region &lt;chr&gt; | Gender &lt;chr&gt; |\n",
       "|---|---|---|---|---|---|---|---|\n",
       "| 1 | 2014-12-21 16:11:00 | #NewYearsResolution to not put the parking lot ticket directly in my mouth right after getting it from the machine #ew                           | Humor            | Humor about Personal Growth and Interests Resolutions | CA | West      | male   |\n",
       "| 2 | 2014-12-21 16:16:00 | I got the hair. I just need to work on the body to pull off Lara Croft next Halloween #NewYearsResolution http://t.co/Ihqh5Z7prx                 | Health &amp; Fitness | Improve my body                                       | TX | South     | male   |\n",
       "| 3 | 2014-12-21 16:30:00 | Self improvement!.. Mentally, physically, and financially. #NewYearsResolution                                                                   | Personal Growth  | Improve my attitude                                   | NV | West      | male   |\n",
       "| 4 | 2014-12-21 17:51:00 | I've decided to get pregnant in #2015 #NewYearsResolution                                                                                        | Humor            | Humor about Family/Friends/Relationships Resolutions  | FL | South     | male   |\n",
       "| 5 | 2014-12-21 18:09:00 | All I want for Christmas is to be Carrie Underwood. #NewYearsResolution                                                                          | Personal Growth  | Other                                                 | SC | South     | female |\n",
       "| 6 | 2014-12-21 18:18:00 | Note to self: \"Stop being lazy &amp;amp; get back into hot yoga.\" I have a monthly pass, so no excuses! #hotyoga #newyearsresolution #healthiswealth | Health &amp; Fitness | Excersize More                                        | NY | Northeast | female |\n",
       "\n"
      ],
      "text/plain": [
       "  Date               \n",
       "1 2014-12-21 16:11:00\n",
       "2 2014-12-21 16:16:00\n",
       "3 2014-12-21 16:30:00\n",
       "4 2014-12-21 17:51:00\n",
       "5 2014-12-21 18:09:00\n",
       "6 2014-12-21 18:18:00\n",
       "  Tweet                                                                                                                                           \n",
       "1 #NewYearsResolution to not put the parking lot ticket directly in my mouth right after getting it from the machine #ew                          \n",
       "2 I got the hair. I just need to work on the body to pull off Lara Croft next Halloween #NewYearsResolution http://t.co/Ihqh5Z7prx                \n",
       "3 Self improvement!.. Mentally, physically, and financially. #NewYearsResolution                                                                  \n",
       "4 I've decided to get pregnant in #2015 #NewYearsResolution                                                                                       \n",
       "5 All I want for Christmas is to be Carrie Underwood. #NewYearsResolution                                                                         \n",
       "6 Note to self: \"Stop being lazy &amp; get back into hot yoga.\" I have a monthly pass, so no excuses! #hotyoga #newyearsresolution #healthiswealth\n",
       "  Category         Topics                                                State\n",
       "1 Humor            Humor about Personal Growth and Interests Resolutions CA   \n",
       "2 Health & Fitness Improve my body                                       TX   \n",
       "3 Personal Growth  Improve my attitude                                   NV   \n",
       "4 Humor            Humor about Family/Friends/Relationships Resolutions  FL   \n",
       "5 Personal Growth  Other                                                 SC   \n",
       "6 Health & Fitness Excersize More                                        NY   \n",
       "  Region    Gender\n",
       "1 West      male  \n",
       "2 South     male  \n",
       "3 West      male  \n",
       "4 South     male  \n",
       "5 South     female\n",
       "6 Northeast female"
      ]
     },
     "metadata": {},
     "output_type": "display_data"
    }
   ],
   "source": [
    "head(NYRtrim)"
   ]
  },
  {
   "cell_type": "markdown",
   "id": "ef80e1bf",
   "metadata": {},
   "source": [
    "# Which region in the United States plans on going to the gym more based on tweets? Target advertising in these regions.\n"
   ]
  },
  {
   "cell_type": "markdown",
   "id": "c3ee8394",
   "metadata": {},
   "source": [
    "# Ensure the IV is a factor"
   ]
  },
  {
   "cell_type": "code",
   "execution_count": 74,
   "id": "af606784",
   "metadata": {
    "vscode": {
     "languageId": "r"
    }
   },
   "outputs": [
    {
     "name": "stdout",
     "output_type": "stream",
     "text": [
      " NULL\n"
     ]
    }
   ],
   "source": [
    "str(NYRtrim$region)\n"
   ]
  },
  {
   "cell_type": "code",
   "execution_count": null,
   "id": "87631e47",
   "metadata": {
    "vscode": {
     "languageId": "r"
    }
   },
   "outputs": [],
   "source": [
    "NYR$gender<- as.factor(NYR$gender)"
   ]
  },
  {
   "cell_type": "markdown",
   "id": "9f3dc6f4",
   "metadata": {},
   "source": [
    "# Ensure the CV is a factor"
   ]
  },
  {
   "cell_type": "code",
   "execution_count": null,
   "id": "bb15f4ba",
   "metadata": {
    "vscode": {
     "languageId": "r"
    }
   },
   "outputs": [
    {
     "name": "stdout",
     "output_type": "stream",
     "text": [
      " chr [1:4723] \"Humor\" \"Health & Fitness\" \"Personal Growth\" \"Humor\" ...\n"
     ]
    }
   ],
   "source": [
    "str(NYR$tweet_category)"
   ]
  },
  {
   "cell_type": "code",
   "execution_count": null,
   "id": "3e2ca8c7",
   "metadata": {
    "vscode": {
     "languageId": "r"
    }
   },
   "outputs": [],
   "source": [
    "NYR$tweet_category<- as.factor(NYR$tweet_category)"
   ]
  },
  {
   "cell_type": "markdown",
   "id": "a0913671",
   "metadata": {},
   "source": [
    "# Check for Normality"
   ]
  },
  {
   "cell_type": "code",
   "execution_count": null,
   "id": "68d941e2",
   "metadata": {
    "vscode": {
     "languageId": "r"
    }
   },
   "outputs": [
    {
     "ename": "ERROR",
     "evalue": "Error in plotNormalHistogram(tweet_category$gender): object 'tweet_category' not found\n",
     "output_type": "error",
     "traceback": [
      "Error in plotNormalHistogram(tweet_category$gender): object 'tweet_category' not found\nTraceback:\n",
      "1. plotNormalHistogram(tweet_category$gender)"
     ]
    }
   ],
   "source": [
    "plotNormalHistogram(tweet_category$gender)\n"
   ]
  },
  {
   "cell_type": "code",
   "execution_count": null,
   "id": "2c179a28",
   "metadata": {
    "vscode": {
     "languageId": "r"
    }
   },
   "outputs": [],
   "source": [
    "ANCOVA = lm(tweet_category~gender +tweet_state*gender, data=NYR)\n",
    "anova(ANCOVA)"
   ]
  },
  {
   "cell_type": "code",
   "execution_count": null,
   "id": "4be13c97",
   "metadata": {
    "vscode": {
     "languageId": "r"
    }
   },
   "outputs": [],
   "source": []
  }
 ],
 "metadata": {
  "kernelspec": {
   "display_name": "R",
   "language": "R",
   "name": "ir"
  },
  "language_info": {
   "codemirror_mode": "r",
   "file_extension": ".r",
   "mimetype": "text/x-r-source",
   "name": "R",
   "pygments_lexer": "r",
   "version": "4.2.0"
  }
 },
 "nbformat": 4,
 "nbformat_minor": 5
}
