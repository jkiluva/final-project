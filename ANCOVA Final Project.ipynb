{
 "cells": [
  {
   "cell_type": "markdown",
   "id": "3f9151d5",
   "metadata": {},
   "source": [
    "# Load Libraries\n"
   ]
  },
  {
   "cell_type": "code",
   "execution_count": 297,
   "id": "75350dd9",
   "metadata": {
    "vscode": {
     "languageId": "r"
    }
   },
   "outputs": [],
   "source": [
    "library(\"rcompanion\")\n",
    "library(\"car\")\n",
    "library(\"effects\")\n",
    "library(\"multcomp\")\n",
    "library(\"dplyr\")"
   ]
  },
  {
   "cell_type": "markdown",
   "id": "fb74503a",
   "metadata": {},
   "source": [
    "# Load in Data\n"
   ]
  },
  {
   "cell_type": "code",
   "execution_count": 298,
   "id": "2e674eee",
   "metadata": {
    "vscode": {
     "languageId": "r"
    }
   },
   "outputs": [],
   "source": [
    "NYR=read.csv(\"/Users/jeannekiluva/Desktop/New_years_resolutions.csv\")"
   ]
  },
  {
   "cell_type": "code",
   "execution_count": 299,
   "id": "780eaed3",
   "metadata": {
    "vscode": {
     "languageId": "r"
    }
   },
   "outputs": [
    {
     "data": {
      "text/html": [
       "<table class=\"dataframe\">\n",
       "<caption>A data.frame: 6 × 10</caption>\n",
       "<thead>\n",
       "\t<tr><th></th><th scope=col>tweet_created</th><th scope=col>tweet_text</th><th scope=col>tweet_category</th><th scope=col>tweet_topics</th><th scope=col>tweet_location</th><th scope=col>tweet_state</th><th scope=col>tweet_region</th><th scope=col>user_timezone</th><th scope=col>user_gender</th><th scope=col>retweet_count</th></tr>\n",
       "\t<tr><th></th><th scope=col>&lt;chr&gt;</th><th scope=col>&lt;chr&gt;</th><th scope=col>&lt;chr&gt;</th><th scope=col>&lt;chr&gt;</th><th scope=col>&lt;chr&gt;</th><th scope=col>&lt;chr&gt;</th><th scope=col>&lt;chr&gt;</th><th scope=col>&lt;chr&gt;</th><th scope=col>&lt;chr&gt;</th><th scope=col>&lt;int&gt;</th></tr>\n",
       "</thead>\n",
       "<tbody>\n",
       "\t<tr><th scope=row>1</th><td>2014-12-21 16:11:00</td><td><span style=white-space:pre-wrap>#NewYearsResolution to not put the parking lot ticket directly in my mouth right after getting it from the machine #ew                          </span></td><td><span style=white-space:pre-wrap>Humor           </span></td><td>Humor about Personal Growth and Interests Resolutions</td><td><span style=white-space:pre-wrap>City of Angels, CA    </span></td><td>CA</td><td><span style=white-space:pre-wrap>West     </span></td><td>Pacific Time (US &amp; Canada)</td><td><span style=white-space:pre-wrap>male  </span></td><td>NA</td></tr>\n",
       "\t<tr><th scope=row>2</th><td>2014-12-21 16:16:00</td><td><span style=white-space:pre-wrap>I got the hair. I just need to work on the body to pull off Lara Croft next Halloween #NewYearsResolution http://t.co/Ihqh5Z7prx                </span></td><td>Health &amp; Fitness</td><td><span style=white-space:pre-wrap>Improve my body                                      </span></td><td><span style=white-space:pre-wrap>Arlington, TX         </span></td><td>TX</td><td><span style=white-space:pre-wrap>South    </span></td><td>Central Time (US &amp; Canada)</td><td><span style=white-space:pre-wrap>male  </span></td><td>NA</td></tr>\n",
       "\t<tr><th scope=row>3</th><td>2014-12-21 16:30:00</td><td><span style=white-space:pre-wrap>Self improvement!.. Mentally, physically, and financially. #NewYearsResolution                                                                  </span></td><td>Personal Growth </td><td><span style=white-space:pre-wrap>Improve my attitude                                  </span></td><td><span style=white-space:pre-wrap>Las Vegas, NV         </span></td><td>NV</td><td><span style=white-space:pre-wrap>West     </span></td><td>Central Time (US &amp; Canada)</td><td><span style=white-space:pre-wrap>male  </span></td><td>NA</td></tr>\n",
       "\t<tr><th scope=row>4</th><td>2014-12-21 17:51:00</td><td>I've decided to get pregnant in #2015 #NewYearsResolution                                                                                       </td><td>Humor           </td><td>Humor about Family/Friends/Relationships Resolutions </td><td>Ft. Luderdale, Florida</td><td>FL</td><td>South    </td><td>                          </td><td>male  </td><td>NA</td></tr>\n",
       "\t<tr><th scope=row>5</th><td>2014-12-21 18:09:00</td><td><span style=white-space:pre-wrap>All I want for Christmas is to be Carrie Underwood. #NewYearsResolution                                                                         </span></td><td>Personal Growth </td><td><span style=white-space:pre-wrap>Other                                                </span></td><td><span style=white-space:pre-wrap>South Carolina        </span></td><td>SC</td><td><span style=white-space:pre-wrap>South    </span></td><td>Pacific Time (US &amp; Canada)</td><td>female</td><td>NA</td></tr>\n",
       "\t<tr><th scope=row>6</th><td>2014-12-21 18:18:00</td><td>Note to self: \"Stop being lazy &amp;amp; get back into hot yoga.\" I have a monthly pass, so no excuses! #hotyoga #newyearsresolution #healthiswealth</td><td>Health &amp; Fitness</td><td><span style=white-space:pre-wrap>Excersize More                                       </span></td><td><span style=white-space:pre-wrap>NYC                   </span></td><td>NY</td><td>Northeast</td><td><span style=white-space:pre-wrap>Quito                     </span></td><td>female</td><td>NA</td></tr>\n",
       "</tbody>\n",
       "</table>\n"
      ],
      "text/latex": [
       "A data.frame: 6 × 10\n",
       "\\begin{tabular}{r|llllllllll}\n",
       "  & tweet\\_created & tweet\\_text & tweet\\_category & tweet\\_topics & tweet\\_location & tweet\\_state & tweet\\_region & user\\_timezone & user\\_gender & retweet\\_count\\\\\n",
       "  & <chr> & <chr> & <chr> & <chr> & <chr> & <chr> & <chr> & <chr> & <chr> & <int>\\\\\n",
       "\\hline\n",
       "\t1 & 2014-12-21 16:11:00 & \\#NewYearsResolution to not put the parking lot ticket directly in my mouth right after getting it from the machine \\#ew                           & Humor            & Humor about Personal Growth and Interests Resolutions & City of Angels, CA     & CA & West      & Pacific Time (US \\& Canada) & male   & NA\\\\\n",
       "\t2 & 2014-12-21 16:16:00 & I got the hair. I just need to work on the body to pull off Lara Croft next Halloween \\#NewYearsResolution http://t.co/Ihqh5Z7prx                 & Health \\& Fitness & Improve my body                                       & Arlington, TX          & TX & South     & Central Time (US \\& Canada) & male   & NA\\\\\n",
       "\t3 & 2014-12-21 16:30:00 & Self improvement!.. Mentally, physically, and financially. \\#NewYearsResolution                                                                   & Personal Growth  & Improve my attitude                                   & Las Vegas, NV          & NV & West      & Central Time (US \\& Canada) & male   & NA\\\\\n",
       "\t4 & 2014-12-21 17:51:00 & I've decided to get pregnant in \\#2015 \\#NewYearsResolution                                                                                        & Humor            & Humor about Family/Friends/Relationships Resolutions  & Ft. Luderdale, Florida & FL & South     &                            & male   & NA\\\\\n",
       "\t5 & 2014-12-21 18:09:00 & All I want for Christmas is to be Carrie Underwood. \\#NewYearsResolution                                                                          & Personal Growth  & Other                                                 & South Carolina         & SC & South     & Pacific Time (US \\& Canada) & female & NA\\\\\n",
       "\t6 & 2014-12-21 18:18:00 & Note to self: \"Stop being lazy \\&amp; get back into hot yoga.\" I have a monthly pass, so no excuses! \\#hotyoga \\#newyearsresolution \\#healthiswealth & Health \\& Fitness & Excersize More                                        & NYC                    & NY & Northeast & Quito                      & female & NA\\\\\n",
       "\\end{tabular}\n"
      ],
      "text/markdown": [
       "\n",
       "A data.frame: 6 × 10\n",
       "\n",
       "| <!--/--> | tweet_created &lt;chr&gt; | tweet_text &lt;chr&gt; | tweet_category &lt;chr&gt; | tweet_topics &lt;chr&gt; | tweet_location &lt;chr&gt; | tweet_state &lt;chr&gt; | tweet_region &lt;chr&gt; | user_timezone &lt;chr&gt; | user_gender &lt;chr&gt; | retweet_count &lt;int&gt; |\n",
       "|---|---|---|---|---|---|---|---|---|---|---|\n",
       "| 1 | 2014-12-21 16:11:00 | #NewYearsResolution to not put the parking lot ticket directly in my mouth right after getting it from the machine #ew                           | Humor            | Humor about Personal Growth and Interests Resolutions | City of Angels, CA     | CA | West      | Pacific Time (US &amp; Canada) | male   | NA |\n",
       "| 2 | 2014-12-21 16:16:00 | I got the hair. I just need to work on the body to pull off Lara Croft next Halloween #NewYearsResolution http://t.co/Ihqh5Z7prx                 | Health &amp; Fitness | Improve my body                                       | Arlington, TX          | TX | South     | Central Time (US &amp; Canada) | male   | NA |\n",
       "| 3 | 2014-12-21 16:30:00 | Self improvement!.. Mentally, physically, and financially. #NewYearsResolution                                                                   | Personal Growth  | Improve my attitude                                   | Las Vegas, NV          | NV | West      | Central Time (US &amp; Canada) | male   | NA |\n",
       "| 4 | 2014-12-21 17:51:00 | I've decided to get pregnant in #2015 #NewYearsResolution                                                                                        | Humor            | Humor about Family/Friends/Relationships Resolutions  | Ft. Luderdale, Florida | FL | South     | <!----> | male   | NA |\n",
       "| 5 | 2014-12-21 18:09:00 | All I want for Christmas is to be Carrie Underwood. #NewYearsResolution                                                                          | Personal Growth  | Other                                                 | South Carolina         | SC | South     | Pacific Time (US &amp; Canada) | female | NA |\n",
       "| 6 | 2014-12-21 18:18:00 | Note to self: \"Stop being lazy &amp;amp; get back into hot yoga.\" I have a monthly pass, so no excuses! #hotyoga #newyearsresolution #healthiswealth | Health &amp; Fitness | Excersize More                                        | NYC                    | NY | Northeast | Quito                      | female | NA |\n",
       "\n"
      ],
      "text/plain": [
       "  tweet_created      \n",
       "1 2014-12-21 16:11:00\n",
       "2 2014-12-21 16:16:00\n",
       "3 2014-12-21 16:30:00\n",
       "4 2014-12-21 17:51:00\n",
       "5 2014-12-21 18:09:00\n",
       "6 2014-12-21 18:18:00\n",
       "  tweet_text                                                                                                                                      \n",
       "1 #NewYearsResolution to not put the parking lot ticket directly in my mouth right after getting it from the machine #ew                          \n",
       "2 I got the hair. I just need to work on the body to pull off Lara Croft next Halloween #NewYearsResolution http://t.co/Ihqh5Z7prx                \n",
       "3 Self improvement!.. Mentally, physically, and financially. #NewYearsResolution                                                                  \n",
       "4 I've decided to get pregnant in #2015 #NewYearsResolution                                                                                       \n",
       "5 All I want for Christmas is to be Carrie Underwood. #NewYearsResolution                                                                         \n",
       "6 Note to self: \"Stop being lazy &amp; get back into hot yoga.\" I have a monthly pass, so no excuses! #hotyoga #newyearsresolution #healthiswealth\n",
       "  tweet_category   tweet_topics                                         \n",
       "1 Humor            Humor about Personal Growth and Interests Resolutions\n",
       "2 Health & Fitness Improve my body                                      \n",
       "3 Personal Growth  Improve my attitude                                  \n",
       "4 Humor            Humor about Family/Friends/Relationships Resolutions \n",
       "5 Personal Growth  Other                                                \n",
       "6 Health & Fitness Excersize More                                       \n",
       "  tweet_location         tweet_state tweet_region user_timezone             \n",
       "1 City of Angels, CA     CA          West         Pacific Time (US & Canada)\n",
       "2 Arlington, TX          TX          South        Central Time (US & Canada)\n",
       "3 Las Vegas, NV          NV          West         Central Time (US & Canada)\n",
       "4 Ft. Luderdale, Florida FL          South                                  \n",
       "5 South Carolina         SC          South        Pacific Time (US & Canada)\n",
       "6 NYC                    NY          Northeast    Quito                     \n",
       "  user_gender retweet_count\n",
       "1 male        NA           \n",
       "2 male        NA           \n",
       "3 male        NA           \n",
       "4 male        NA           \n",
       "5 female      NA           \n",
       "6 female      NA           "
      ]
     },
     "metadata": {},
     "output_type": "display_data"
    }
   ],
   "source": [
    "head(NYR)"
   ]
  },
  {
   "cell_type": "markdown",
   "id": "150fe54e",
   "metadata": {},
   "source": [
    "# Rename Columns"
   ]
  },
  {
   "cell_type": "code",
   "execution_count": 300,
   "id": "0915c507",
   "metadata": {
    "vscode": {
     "languageId": "r"
    }
   },
   "outputs": [],
   "source": [
    "NYR <- NYR%>% rename(Date=tweet_created,Tweet=tweet_text,Category=tweet_category,Topics=tweet_topics,Location=tweet_location,State=tweet_state,Region=tweet_region,TZ=user_timezone,Gender=user_gender)"
   ]
  },
  {
   "cell_type": "code",
   "execution_count": 301,
   "id": "a19a04f8",
   "metadata": {
    "vscode": {
     "languageId": "r"
    }
   },
   "outputs": [
    {
     "data": {
      "text/html": [
       "<table class=\"dataframe\">\n",
       "<caption>A data.frame: 6 × 10</caption>\n",
       "<thead>\n",
       "\t<tr><th></th><th scope=col>Date</th><th scope=col>Tweet</th><th scope=col>Category</th><th scope=col>Topics</th><th scope=col>Location</th><th scope=col>State</th><th scope=col>Region</th><th scope=col>TZ</th><th scope=col>Gender</th><th scope=col>retweet_count</th></tr>\n",
       "\t<tr><th></th><th scope=col>&lt;chr&gt;</th><th scope=col>&lt;chr&gt;</th><th scope=col>&lt;chr&gt;</th><th scope=col>&lt;chr&gt;</th><th scope=col>&lt;chr&gt;</th><th scope=col>&lt;chr&gt;</th><th scope=col>&lt;chr&gt;</th><th scope=col>&lt;chr&gt;</th><th scope=col>&lt;chr&gt;</th><th scope=col>&lt;int&gt;</th></tr>\n",
       "</thead>\n",
       "<tbody>\n",
       "\t<tr><th scope=row>1</th><td>2014-12-21 16:11:00</td><td><span style=white-space:pre-wrap>#NewYearsResolution to not put the parking lot ticket directly in my mouth right after getting it from the machine #ew                          </span></td><td><span style=white-space:pre-wrap>Humor           </span></td><td>Humor about Personal Growth and Interests Resolutions</td><td><span style=white-space:pre-wrap>City of Angels, CA    </span></td><td>CA</td><td><span style=white-space:pre-wrap>West     </span></td><td>Pacific Time (US &amp; Canada)</td><td><span style=white-space:pre-wrap>male  </span></td><td>NA</td></tr>\n",
       "\t<tr><th scope=row>2</th><td>2014-12-21 16:16:00</td><td><span style=white-space:pre-wrap>I got the hair. I just need to work on the body to pull off Lara Croft next Halloween #NewYearsResolution http://t.co/Ihqh5Z7prx                </span></td><td>Health &amp; Fitness</td><td><span style=white-space:pre-wrap>Improve my body                                      </span></td><td><span style=white-space:pre-wrap>Arlington, TX         </span></td><td>TX</td><td><span style=white-space:pre-wrap>South    </span></td><td>Central Time (US &amp; Canada)</td><td><span style=white-space:pre-wrap>male  </span></td><td>NA</td></tr>\n",
       "\t<tr><th scope=row>3</th><td>2014-12-21 16:30:00</td><td><span style=white-space:pre-wrap>Self improvement!.. Mentally, physically, and financially. #NewYearsResolution                                                                  </span></td><td>Personal Growth </td><td><span style=white-space:pre-wrap>Improve my attitude                                  </span></td><td><span style=white-space:pre-wrap>Las Vegas, NV         </span></td><td>NV</td><td><span style=white-space:pre-wrap>West     </span></td><td>Central Time (US &amp; Canada)</td><td><span style=white-space:pre-wrap>male  </span></td><td>NA</td></tr>\n",
       "\t<tr><th scope=row>4</th><td>2014-12-21 17:51:00</td><td>I've decided to get pregnant in #2015 #NewYearsResolution                                                                                       </td><td>Humor           </td><td>Humor about Family/Friends/Relationships Resolutions </td><td>Ft. Luderdale, Florida</td><td>FL</td><td>South    </td><td>                          </td><td>male  </td><td>NA</td></tr>\n",
       "\t<tr><th scope=row>5</th><td>2014-12-21 18:09:00</td><td><span style=white-space:pre-wrap>All I want for Christmas is to be Carrie Underwood. #NewYearsResolution                                                                         </span></td><td>Personal Growth </td><td><span style=white-space:pre-wrap>Other                                                </span></td><td><span style=white-space:pre-wrap>South Carolina        </span></td><td>SC</td><td><span style=white-space:pre-wrap>South    </span></td><td>Pacific Time (US &amp; Canada)</td><td>female</td><td>NA</td></tr>\n",
       "\t<tr><th scope=row>6</th><td>2014-12-21 18:18:00</td><td>Note to self: \"Stop being lazy &amp;amp; get back into hot yoga.\" I have a monthly pass, so no excuses! #hotyoga #newyearsresolution #healthiswealth</td><td>Health &amp; Fitness</td><td><span style=white-space:pre-wrap>Excersize More                                       </span></td><td><span style=white-space:pre-wrap>NYC                   </span></td><td>NY</td><td>Northeast</td><td><span style=white-space:pre-wrap>Quito                     </span></td><td>female</td><td>NA</td></tr>\n",
       "</tbody>\n",
       "</table>\n"
      ],
      "text/latex": [
       "A data.frame: 6 × 10\n",
       "\\begin{tabular}{r|llllllllll}\n",
       "  & Date & Tweet & Category & Topics & Location & State & Region & TZ & Gender & retweet\\_count\\\\\n",
       "  & <chr> & <chr> & <chr> & <chr> & <chr> & <chr> & <chr> & <chr> & <chr> & <int>\\\\\n",
       "\\hline\n",
       "\t1 & 2014-12-21 16:11:00 & \\#NewYearsResolution to not put the parking lot ticket directly in my mouth right after getting it from the machine \\#ew                           & Humor            & Humor about Personal Growth and Interests Resolutions & City of Angels, CA     & CA & West      & Pacific Time (US \\& Canada) & male   & NA\\\\\n",
       "\t2 & 2014-12-21 16:16:00 & I got the hair. I just need to work on the body to pull off Lara Croft next Halloween \\#NewYearsResolution http://t.co/Ihqh5Z7prx                 & Health \\& Fitness & Improve my body                                       & Arlington, TX          & TX & South     & Central Time (US \\& Canada) & male   & NA\\\\\n",
       "\t3 & 2014-12-21 16:30:00 & Self improvement!.. Mentally, physically, and financially. \\#NewYearsResolution                                                                   & Personal Growth  & Improve my attitude                                   & Las Vegas, NV          & NV & West      & Central Time (US \\& Canada) & male   & NA\\\\\n",
       "\t4 & 2014-12-21 17:51:00 & I've decided to get pregnant in \\#2015 \\#NewYearsResolution                                                                                        & Humor            & Humor about Family/Friends/Relationships Resolutions  & Ft. Luderdale, Florida & FL & South     &                            & male   & NA\\\\\n",
       "\t5 & 2014-12-21 18:09:00 & All I want for Christmas is to be Carrie Underwood. \\#NewYearsResolution                                                                          & Personal Growth  & Other                                                 & South Carolina         & SC & South     & Pacific Time (US \\& Canada) & female & NA\\\\\n",
       "\t6 & 2014-12-21 18:18:00 & Note to self: \"Stop being lazy \\&amp; get back into hot yoga.\" I have a monthly pass, so no excuses! \\#hotyoga \\#newyearsresolution \\#healthiswealth & Health \\& Fitness & Excersize More                                        & NYC                    & NY & Northeast & Quito                      & female & NA\\\\\n",
       "\\end{tabular}\n"
      ],
      "text/markdown": [
       "\n",
       "A data.frame: 6 × 10\n",
       "\n",
       "| <!--/--> | Date &lt;chr&gt; | Tweet &lt;chr&gt; | Category &lt;chr&gt; | Topics &lt;chr&gt; | Location &lt;chr&gt; | State &lt;chr&gt; | Region &lt;chr&gt; | TZ &lt;chr&gt; | Gender &lt;chr&gt; | retweet_count &lt;int&gt; |\n",
       "|---|---|---|---|---|---|---|---|---|---|---|\n",
       "| 1 | 2014-12-21 16:11:00 | #NewYearsResolution to not put the parking lot ticket directly in my mouth right after getting it from the machine #ew                           | Humor            | Humor about Personal Growth and Interests Resolutions | City of Angels, CA     | CA | West      | Pacific Time (US &amp; Canada) | male   | NA |\n",
       "| 2 | 2014-12-21 16:16:00 | I got the hair. I just need to work on the body to pull off Lara Croft next Halloween #NewYearsResolution http://t.co/Ihqh5Z7prx                 | Health &amp; Fitness | Improve my body                                       | Arlington, TX          | TX | South     | Central Time (US &amp; Canada) | male   | NA |\n",
       "| 3 | 2014-12-21 16:30:00 | Self improvement!.. Mentally, physically, and financially. #NewYearsResolution                                                                   | Personal Growth  | Improve my attitude                                   | Las Vegas, NV          | NV | West      | Central Time (US &amp; Canada) | male   | NA |\n",
       "| 4 | 2014-12-21 17:51:00 | I've decided to get pregnant in #2015 #NewYearsResolution                                                                                        | Humor            | Humor about Family/Friends/Relationships Resolutions  | Ft. Luderdale, Florida | FL | South     | <!----> | male   | NA |\n",
       "| 5 | 2014-12-21 18:09:00 | All I want for Christmas is to be Carrie Underwood. #NewYearsResolution                                                                          | Personal Growth  | Other                                                 | South Carolina         | SC | South     | Pacific Time (US &amp; Canada) | female | NA |\n",
       "| 6 | 2014-12-21 18:18:00 | Note to self: \"Stop being lazy &amp;amp; get back into hot yoga.\" I have a monthly pass, so no excuses! #hotyoga #newyearsresolution #healthiswealth | Health &amp; Fitness | Excersize More                                        | NYC                    | NY | Northeast | Quito                      | female | NA |\n",
       "\n"
      ],
      "text/plain": [
       "  Date               \n",
       "1 2014-12-21 16:11:00\n",
       "2 2014-12-21 16:16:00\n",
       "3 2014-12-21 16:30:00\n",
       "4 2014-12-21 17:51:00\n",
       "5 2014-12-21 18:09:00\n",
       "6 2014-12-21 18:18:00\n",
       "  Tweet                                                                                                                                           \n",
       "1 #NewYearsResolution to not put the parking lot ticket directly in my mouth right after getting it from the machine #ew                          \n",
       "2 I got the hair. I just need to work on the body to pull off Lara Croft next Halloween #NewYearsResolution http://t.co/Ihqh5Z7prx                \n",
       "3 Self improvement!.. Mentally, physically, and financially. #NewYearsResolution                                                                  \n",
       "4 I've decided to get pregnant in #2015 #NewYearsResolution                                                                                       \n",
       "5 All I want for Christmas is to be Carrie Underwood. #NewYearsResolution                                                                         \n",
       "6 Note to self: \"Stop being lazy &amp; get back into hot yoga.\" I have a monthly pass, so no excuses! #hotyoga #newyearsresolution #healthiswealth\n",
       "  Category         Topics                                               \n",
       "1 Humor            Humor about Personal Growth and Interests Resolutions\n",
       "2 Health & Fitness Improve my body                                      \n",
       "3 Personal Growth  Improve my attitude                                  \n",
       "4 Humor            Humor about Family/Friends/Relationships Resolutions \n",
       "5 Personal Growth  Other                                                \n",
       "6 Health & Fitness Excersize More                                       \n",
       "  Location               State Region    TZ                         Gender\n",
       "1 City of Angels, CA     CA    West      Pacific Time (US & Canada) male  \n",
       "2 Arlington, TX          TX    South     Central Time (US & Canada) male  \n",
       "3 Las Vegas, NV          NV    West      Central Time (US & Canada) male  \n",
       "4 Ft. Luderdale, Florida FL    South                                male  \n",
       "5 South Carolina         SC    South     Pacific Time (US & Canada) female\n",
       "6 NYC                    NY    Northeast Quito                      female\n",
       "  retweet_count\n",
       "1 NA           \n",
       "2 NA           \n",
       "3 NA           \n",
       "4 NA           \n",
       "5 NA           \n",
       "6 NA           "
      ]
     },
     "metadata": {},
     "output_type": "display_data"
    }
   ],
   "source": [
    "head(NYR)"
   ]
  },
  {
   "cell_type": "markdown",
   "id": "c360b182",
   "metadata": {},
   "source": [
    "#Drop Columns"
   ]
  },
  {
   "cell_type": "code",
   "execution_count": 302,
   "id": "d64a07e2",
   "metadata": {
    "vscode": {
     "languageId": "r"
    }
   },
   "outputs": [],
   "source": [
    "NYRtrim = (within(NYR, rm(Location,retweet_count,TZ)))"
   ]
  },
  {
   "cell_type": "code",
   "execution_count": 303,
   "id": "2d140dea",
   "metadata": {
    "vscode": {
     "languageId": "r"
    }
   },
   "outputs": [
    {
     "data": {
      "text/html": [
       "<table class=\"dataframe\">\n",
       "<caption>A data.frame: 4723 × 7</caption>\n",
       "<thead>\n",
       "\t<tr><th></th><th scope=col>Date</th><th scope=col>Tweet</th><th scope=col>Category</th><th scope=col>Topics</th><th scope=col>State</th><th scope=col>Region</th><th scope=col>Gender</th></tr>\n",
       "\t<tr><th></th><th scope=col>&lt;chr&gt;</th><th scope=col>&lt;chr&gt;</th><th scope=col>&lt;chr&gt;</th><th scope=col>&lt;chr&gt;</th><th scope=col>&lt;chr&gt;</th><th scope=col>&lt;chr&gt;</th><th scope=col>&lt;chr&gt;</th></tr>\n",
       "</thead>\n",
       "<tbody>\n",
       "\t<tr><th scope=row>1</th><td>2014-12-21 16:11:00</td><td>#NewYearsResolution to not put the parking lot ticket directly in my mouth right after getting it from the machine #ew                                   </td><td>Humor                       </td><td>Humor about Personal Growth and Interests Resolutions</td><td>CA</td><td>West     </td><td>male  </td></tr>\n",
       "\t<tr><th scope=row>2</th><td>2014-12-21 16:16:00</td><td><span style=white-space:pre-wrap>I got the hair. I just need to work on the body to pull off Lara Croft next Halloween #NewYearsResolution http://t.co/Ihqh5Z7prx                         </span></td><td><span style=white-space:pre-wrap>Health &amp; Fitness            </span></td><td><span style=white-space:pre-wrap>Improve my body                                      </span></td><td>TX</td><td><span style=white-space:pre-wrap>South    </span></td><td><span style=white-space:pre-wrap>male  </span></td></tr>\n",
       "\t<tr><th scope=row>3</th><td>2014-12-21 16:30:00</td><td>Self improvement!.. Mentally, physically, and financially. #NewYearsResolution                                                                           </td><td>Personal Growth             </td><td>Improve my attitude                                  </td><td>NV</td><td>West     </td><td>male  </td></tr>\n",
       "\t<tr><th scope=row>4</th><td>2014-12-21 17:51:00</td><td>I've decided to get pregnant in #2015 #NewYearsResolution                                                                                                </td><td>Humor                       </td><td>Humor about Family/Friends/Relationships Resolutions </td><td>FL</td><td>South    </td><td>male  </td></tr>\n",
       "\t<tr><th scope=row>5</th><td>2014-12-21 18:09:00</td><td>All I want for Christmas is to be Carrie Underwood. #NewYearsResolution                                                                                  </td><td>Personal Growth             </td><td>Other                                                </td><td>SC</td><td>South    </td><td>female</td></tr>\n",
       "\t<tr><th scope=row>6</th><td>2014-12-21 18:18:00</td><td><span style=white-space:pre-wrap>Note to self: \"Stop being lazy &amp;amp; get back into hot yoga.\" I have a monthly pass, so no excuses! #hotyoga #newyearsresolution #healthiswealth         </span></td><td><span style=white-space:pre-wrap>Health &amp; Fitness            </span></td><td><span style=white-space:pre-wrap>Excersize More                                       </span></td><td>NY</td><td>Northeast</td><td>female</td></tr>\n",
       "\t<tr><th scope=row>7</th><td>2014-12-21 18:50:00</td><td>RT @ashley_pg19: I'm sick of waiting on life to happen. I want to make my life worth living. _Ùâ_ÙÎÈ #life #loveyourlife #christmastime #NewYear‰Û_</td><td>Personal Growth             </td><td>Be more positive                                     </td><td>WI</td><td>Midwest  </td><td>female</td></tr>\n",
       "\t<tr><th scope=row>8</th><td>2014-12-21 19:12:00</td><td><span style=white-space:pre-wrap>I have to go do my 6 mile run. #stayingFIT #toneUP #StallionBOOTY #NewYearsResolution starts now.                                                        </span></td><td><span style=white-space:pre-wrap>Health &amp; Fitness            </span></td><td><span style=white-space:pre-wrap>Excersize More                                       </span></td><td>CA</td><td><span style=white-space:pre-wrap>West     </span></td><td>female</td></tr>\n",
       "\t<tr><th scope=row>9</th><td>2014-12-21 19:32:00</td><td><span style=white-space:pre-wrap>social media purging &amp;gt; #NewYearsResolution                                                                                                            </span></td><td><span style=white-space:pre-wrap>Personal Growth             </span></td><td><span style=white-space:pre-wrap>Try new things                                       </span></td><td>TN</td><td><span style=white-space:pre-wrap>South    </span></td><td>female</td></tr>\n",
       "\t<tr><th scope=row>10</th><td>2014-12-21 19:46:00</td><td>My #NewYearsResolution is to gain a bunch of weight, then lose it                                                                                        </td><td>Humor                       </td><td>Humor about Personal Growth and Interests Resolutions</td><td>CA</td><td>West     </td><td>male  </td></tr>\n",
       "\t<tr><th scope=row>11</th><td>2014-12-21 19:46:00</td><td><span style=white-space:pre-wrap>‰ÛÏ@PartiPants27: My #NewYearsResolution is to make \"dem gainz\" By any means necessary‰Û bang bang muscle gainz                                    </span></td><td><span style=white-space:pre-wrap>Health &amp; Fitness            </span></td><td><span style=white-space:pre-wrap>Improve my body                                      </span></td><td>CA</td><td><span style=white-space:pre-wrap>West     </span></td><td><span style=white-space:pre-wrap>male  </span></td></tr>\n",
       "\t<tr><th scope=row>12</th><td>2014-12-21 20:05:00</td><td>My #NewYearsResolution should be to make payments on my student loan that are equal to my @ULTA_Beauty orders. #platinum                                 </td><td>Finance                     </td><td>Save money                                           </td><td>MN</td><td>Midwest  </td><td>female</td></tr>\n",
       "\t<tr><th scope=row>13</th><td>2014-12-21 20:10:00</td><td>#NewYearsResolution 1: Acknowledge life's  futility by becoming an alcoholic.  (All tips and advice are welcome)                                         </td><td>Humor                       </td><td>Humor about Health and Fitness Resolutions           </td><td>CA</td><td>West     </td><td>male  </td></tr>\n",
       "\t<tr><th scope=row>14</th><td>2014-12-21 20:37:00</td><td>they gotta listen tho \"@K1NG_JAMES_ #NewYearsResolution teach everyone I come in contact with a positive lesson that helps them out in life\"             </td><td>Philanthropic               </td><td>Other                                                </td><td>TX</td><td>South    </td><td>male  </td></tr>\n",
       "\t<tr><th scope=row>15</th><td>2014-12-21 20:51:00</td><td>RT @K1NG_JAMES_: I just wanna be as happy as the ppl that be on my chemistry book pretend to be #NewYearsResolution                                      </td><td>Personal Growth             </td><td>Be more positive                                     </td><td>TX</td><td>South    </td><td>female</td></tr>\n",
       "\t<tr><th scope=row>16</th><td>2014-12-21 21:03:00</td><td><span style=white-space:pre-wrap>#NewYearsResolution: I will play more #tennis in 2015. _Ù÷_                                                                                              </span></td><td><span style=white-space:pre-wrap>Recreation &amp; Leisure        </span></td><td><span style=white-space:pre-wrap>Spend more time on my hobby                          </span></td><td>MS</td><td><span style=white-space:pre-wrap>South    </span></td><td>female</td></tr>\n",
       "\t<tr><th scope=row>17</th><td>2014-12-21 21:09:00</td><td><span style=white-space:pre-wrap>#bucketlist eat at chipotle never had it #1problem #NewYearsResolution is to go vegetarian. Panara it is, never had that either #pretentious             </span></td><td><span style=white-space:pre-wrap>Health &amp; Fitness            </span></td><td><span style=white-space:pre-wrap>Eat healthier                                        </span></td><td>FL</td><td><span style=white-space:pre-wrap>South    </span></td><td><span style=white-space:pre-wrap>male  </span></td></tr>\n",
       "\t<tr><th scope=row>18</th><td>2014-12-21 21:23:00</td><td>In 2015 I want to save all year to give a significant donation to a few charities I feel passionately about #NewYearsResolution                          </td><td>Philanthropic               </td><td>Donate more to charity                               </td><td>WV</td><td>South    </td><td>female</td></tr>\n",
       "\t<tr><th scope=row>19</th><td>2014-12-21 21:53:00</td><td>By this time next year I want to be looking at houses _ÙÁ #NewYearsResolution                                                                      </td><td>Time Management/Organization</td><td>Re-organize                                          </td><td>MI</td><td>Midwest  </td><td>female</td></tr>\n",
       "\t<tr><th scope=row>20</th><td>2014-12-21 22:32:00</td><td>I Am here to save the world. Damn it feels good. Daily Miracles. Join the #evolution  #NewYearsResolution #resolutions What are you here 4?              </td><td>Philanthropic               </td><td>Donate more to charity                               </td><td>CA</td><td>West     </td><td>male  </td></tr>\n",
       "\t<tr><th scope=row>21</th><td>2014-12-21 22:50:00</td><td><span style=white-space:pre-wrap>&amp;amp; too obsessed with social media.... habit I need to break #NewYearsResolution                                                                       </span></td><td><span style=white-space:pre-wrap>Personal Growth             </span></td><td><span style=white-space:pre-wrap>Use less social media                                </span></td><td>FL</td><td><span style=white-space:pre-wrap>South    </span></td><td>female</td></tr>\n",
       "\t<tr><th scope=row>22</th><td>2014-12-21 23:22:00</td><td><span style=white-space:pre-wrap>1. Catch up on the 20 series I've totally missed out on. #NewYearsResolution                                                                             </span></td><td><span style=white-space:pre-wrap>Recreation &amp; Leisure        </span></td><td><span style=white-space:pre-wrap>See a Concert/Show                                   </span></td><td>CA</td><td><span style=white-space:pre-wrap>West     </span></td><td><span style=white-space:pre-wrap>male  </span></td></tr>\n",
       "\t<tr><th scope=row>23</th><td>2014-12-22 02:09:00</td><td>#NewYearsResolution become the fun person i use to be.                                                                                                   </td><td>Personal Growth             </td><td>Improve my attitude                                  </td><td>LA</td><td>South    </td><td>male  </td></tr>\n",
       "\t<tr><th scope=row>24</th><td>2014-12-22 02:57:00</td><td>to actually work out and not be lazy about it  #NewYearsResolution                                                                                       </td><td>Personal Growth             </td><td>Focus on my self                                     </td><td>NY</td><td>Northeast</td><td>female</td></tr>\n",
       "\t<tr><th scope=row>25</th><td>2014-12-22 03:25:00</td><td><span style=white-space:pre-wrap>RT @Lindseylelledee: Can't wait to be super clichÌ© &amp;amp; jump back on the fitness wagon come January! #NewYearsResolution                               </span></td><td><span style=white-space:pre-wrap>Health &amp; Fitness            </span></td><td><span style=white-space:pre-wrap>Improve my body                                      </span></td><td>MA</td><td>Northeast</td><td>female</td></tr>\n",
       "\t<tr><th scope=row>26</th><td>2014-12-22 04:25:00</td><td>Wow my last post was around this time last year. #NewYearsResolution Get my twitter game up lol                                                          </td><td>Humor                       </td><td>Other                                                </td><td>TX</td><td>South    </td><td>male  </td></tr>\n",
       "\t<tr><th scope=row>27</th><td>2014-12-22 05:20:00</td><td>@adrianna_love oh #NewYearsResolution  ? It should be to build a real friendship like you promised we'd have                                             </td><td>Family/Friends/Relationships</td><td>Have a baby                                          </td><td>CA</td><td>West     </td><td>female</td></tr>\n",
       "\t<tr><th scope=row>28</th><td>2014-12-22 05:20:00</td><td>RT @xNova_Cane: @adrianna_love oh #NewYearsResolution  ? It should be to build a real friendship like you promised we'd have                             </td><td>Family/Friends/Relationships</td><td>Make new friends                                     </td><td>CA</td><td>West     </td><td>female</td></tr>\n",
       "\t<tr><th scope=row>29</th><td>2014-12-22 07:43:00</td><td>Thankful that spring always comes after winter. #writerslife #NewYearsResolution http://t.co/3N4D9vZ8A8                                                  </td><td>Personal Growth             </td><td>Improve my appearance                                </td><td>GA</td><td>South    </td><td>female</td></tr>\n",
       "\t<tr><th scope=row>30</th><td>2014-12-22 07:55:00</td><td>#NewYearsResolution for 2015 is to finish writing my book and get it published                                                                           </td><td>Time Management/Organization</td><td>Other                                                </td><td>FL</td><td>South    </td><td>male  </td></tr>\n",
       "\t<tr><th scope=row>⋮</th><td>⋮</td><td>⋮</td><td>⋮</td><td>⋮</td><td>⋮</td><td>⋮</td><td>⋮</td></tr>\n",
       "\t<tr><th scope=row>4694</th><td>2015-01-02 09:42:00</td><td>RT @dulcetry: Wellp already broke my New Years resolution of not falling off the toilet and breaking both legs again                          </td><td>Humor                       </td><td>Humor about Recreation and Leisure Resolutions          </td><td>NY</td><td>Northeast</td><td>male  </td></tr>\n",
       "\t<tr><th scope=row>4695</th><td>2015-01-02 09:42:00</td><td>RT @scortscort: New years resolution is to produce a druggie anthem for @CousinStizz                                                          </td><td>Career                      </td><td>Other                                                   </td><td>MA</td><td>Northeast</td><td>male  </td></tr>\n",
       "\t<tr><th scope=row>4696</th><td>2015-01-02 09:42:00</td><td>2 days into 2015 and I still have not purchased anything online! New Years resolution going strong _ÙÔ_ÙÔ_ÙÔ                </td><td>Finance                     </td><td>Save money                                              </td><td>MI</td><td>Midwest  </td><td>female</td></tr>\n",
       "\t<tr><th scope=row>4697</th><td>2015-01-02 09:42:00</td><td>New years resolution: donkey punch someone famous.                                                                                            </td><td>Humor                       </td><td>Humor about not Resolutions in general                  </td><td>CT</td><td>Northeast</td><td>male  </td></tr>\n",
       "\t<tr><th scope=row>4698</th><td>2015-01-02 09:43:00</td><td><span style=white-space:pre-wrap>RT @hippieatheart__: My New Years resolution: focus on my physical, mental, and emotional health _ÙÔÎ                                         </span></td><td><span style=white-space:pre-wrap>Health &amp; Fitness            </span></td><td><span style=white-space:pre-wrap>Meditate                                                </span></td><td>SD</td><td><span style=white-space:pre-wrap>Midwest  </span></td><td>female</td></tr>\n",
       "\t<tr><th scope=row>4699</th><td>2015-01-02 09:43:00</td><td>A family of ants have made it their new years resolution to take over my kitchen. Like most resolutions, this too shall fail. #getreadytodie  </td><td>Humor                       </td><td>Humor about Personal Growth and Interests Resolutions   </td><td>CA</td><td>West     </td><td>female</td></tr>\n",
       "\t<tr><th scope=row>4700</th><td>2015-01-02 09:44:00</td><td>RT @pseudo_fred: My New Years resolution is to get some of my dignity back by going back to prostitution.                                     </td><td>Humor                       </td><td>Humor about Personal Growth and Interests Resolutions   </td><td>NY</td><td>Northeast</td><td>female</td></tr>\n",
       "\t<tr><th scope=row>4701</th><td>2015-01-02 09:44:00</td><td>17/M/London, UK - New years resolution. Let's make some friends. :) via /r/Needafriend http://t.co/12AtzvlgtQ http://t.co/wXblSzgz3K          </td><td>Family/Friends/Relationships</td><td>Spend more time with significant other                  </td><td>CA</td><td>West     </td><td>female</td></tr>\n",
       "\t<tr><th scope=row>4702</th><td>2015-01-02 09:44:00</td><td>17/M/London, UK - New years resolution. Let's make some friends. :) via /r/Needafriend http://t.co/12AtzvlgtQ http://t.co/1orV5kfiXT          </td><td>Family/Friends/Relationships</td><td>Have a baby                                             </td><td>CA</td><td>West     </td><td>female</td></tr>\n",
       "\t<tr><th scope=row>4703</th><td>2015-01-02 09:44:00</td><td>My New Years resolution is to stop blatantly ignoring guys who ask to take me on dates. Wishful thinking people. It's not you, it's me.       </td><td>Family/Friends/Relationships</td><td>Make new friends                                        </td><td>NY</td><td>Northeast</td><td>female</td></tr>\n",
       "\t<tr><th scope=row>4704</th><td>2015-01-02 09:44:00</td><td>‰ÛÏ@WizKhalllifa: New Years resolution: http://t.co/Eg3b6bcJjM‰Û                                                                        </td><td>Personal Growth             </td><td>Improve my attitude                                     </td><td>NY</td><td>Northeast</td><td>female</td></tr>\n",
       "\t<tr><th scope=row>4705</th><td>2015-01-02 09:44:00</td><td><span style=white-space:pre-wrap>New Years resolution, get my head straight. No more cigarettes, weed, or energy drinks. I'm going to do me. #NoMoreStressin                   </span></td><td><span style=white-space:pre-wrap>Health &amp; Fitness            </span></td><td><span style=white-space:pre-wrap>Quit smoking                                            </span></td><td>CA</td><td><span style=white-space:pre-wrap>West     </span></td><td><span style=white-space:pre-wrap>male  </span></td></tr>\n",
       "\t<tr><th scope=row>4706</th><td>2015-01-02 09:44:00</td><td><span style=white-space:pre-wrap>New Years Resolution #289: build a watermelon boat. Travel more. http://t.co/fhkAH4xRVa                                                       </span></td><td><span style=white-space:pre-wrap>Recreation &amp; Leisure        </span></td><td><span style=white-space:pre-wrap>Take more vacation                                      </span></td><td>MI</td><td><span style=white-space:pre-wrap>Midwest  </span></td><td>female</td></tr>\n",
       "\t<tr><th scope=row>4707</th><td>2015-01-02 09:45:00</td><td>For 2015 my New Years resolution is to make better bad decisions.                                                                             </td><td>Personal Growth             </td><td>Make better decisions                                   </td><td>TX</td><td>South    </td><td>male  </td></tr>\n",
       "\t<tr><th scope=row>4708</th><td>2015-01-02 09:46:00</td><td>My new years resolution is to meet @MintMilana then of course marry her...                                                                    </td><td>Family/Friends/Relationships</td><td>Spend more time with significant other                  </td><td>TX</td><td>South    </td><td>male  </td></tr>\n",
       "\t<tr><th scope=row>4709</th><td>2015-01-02 09:46:00</td><td>Making my New Years resolution to just be happy is like too much to ask for                                                                   </td><td>Personal Growth             </td><td>Be more positive                                        </td><td>CA</td><td>West     </td><td>female</td></tr>\n",
       "\t<tr><th scope=row>4710</th><td>2015-01-02 09:46:00</td><td>RT @akphillips17: New years resolution: I'm really going to try my hardest to like @Courtney_Bee during 2015. #hardtask #icandothis           </td><td>Personal Growth             </td><td>Update my wardrobe                                      </td><td>ME</td><td>Northeast</td><td>female</td></tr>\n",
       "\t<tr><th scope=row>4711</th><td>2015-01-02 09:47:00</td><td>My New Years resolution is to build a tolerance for spicier foods so I can eat more Indian food _ÙÓ´                                          </td><td>Personal Growth             </td><td>Try new things                                          </td><td>NJ</td><td>Northeast</td><td>female</td></tr>\n",
       "\t<tr><th scope=row>4712</th><td>2015-01-02 09:47:00</td><td>New Years' Resolution: Spend More Time Doing This (and Less Doing That!) #women http://t.co/IawFHWCNqj                                        </td><td>Time Management/Organization</td><td>Re-organize                                             </td><td>AR</td><td>South    </td><td>female</td></tr>\n",
       "\t<tr><th scope=row>4713</th><td>2015-01-02 09:48:00</td><td><span style=white-space:pre-wrap>my new years resolution is to not try the @McDonalds triple cheeseburger                                                                      </span></td><td><span style=white-space:pre-wrap>Health &amp; Fitness            </span></td><td><span style=white-space:pre-wrap>Eat healthier                                           </span></td><td>IL</td><td><span style=white-space:pre-wrap>Midwest  </span></td><td><span style=white-space:pre-wrap>male  </span></td></tr>\n",
       "\t<tr><th scope=row>4714</th><td>2015-01-02 09:49:00</td><td><span style=white-space:pre-wrap>New Years resolution: watch The Grand Budapest Hotel once a week.                                                                             </span></td><td><span style=white-space:pre-wrap>Recreation &amp; Leisure        </span></td><td><span style=white-space:pre-wrap>Spend more time on my hobby                             </span></td><td>MA</td><td>Northeast</td><td><span style=white-space:pre-wrap>male  </span></td></tr>\n",
       "\t<tr><th scope=row>4715</th><td>2015-01-02 09:49:00</td><td>My New Years resolution is simply going to be remembering to write 2015 instead of 2014                                                       </td><td>Humor                       </td><td>Humor about New Years                                   </td><td>CA</td><td>West     </td><td>female</td></tr>\n",
       "\t<tr><th scope=row>4716</th><td>2015-01-02 09:49:00</td><td>My New Years resolution.... http://t.co/CDutLmTJ6g                                                                                            </td><td>Personal Growth             </td><td>Be more positive                                        </td><td>CA</td><td>West     </td><td>female</td></tr>\n",
       "\t<tr><th scope=row>4717</th><td>2015-01-02 09:51:00</td><td><span style=white-space:pre-wrap>My New Years resolution is to raise myself to a level of culinary excellence rarely seen in people as young as myself.                        </span></td><td><span style=white-space:pre-wrap>Recreation &amp; Leisure        </span></td><td><span style=white-space:pre-wrap>Spend more time on my hobby                             </span></td><td>TX</td><td><span style=white-space:pre-wrap>South    </span></td><td><span style=white-space:pre-wrap>male  </span></td></tr>\n",
       "\t<tr><th scope=row>4718</th><td>2015-01-02 09:51:00</td><td><span style=white-space:pre-wrap>I'm still on that New Years resolution I made 3 years ago ‰Ï_ #3YearsSodaSober                                                                </span></td><td><span style=white-space:pre-wrap>Health &amp; Fitness            </span></td><td><span style=white-space:pre-wrap>Eat healthier                                           </span></td><td>IA</td><td><span style=white-space:pre-wrap>Midwest  </span></td><td><span style=white-space:pre-wrap>male  </span></td></tr>\n",
       "\t<tr><th scope=row>4719</th><td>2015-01-02 09:52:00</td><td>My first New Years Resolution is to learn to accept myself as I am. So, I guess I won't be making any others.                                 </td><td>Personal Growth             </td><td>Use more social media                                   </td><td>OH</td><td>Midwest  </td><td>male  </td></tr>\n",
       "\t<tr><th scope=row>4720</th><td>2015-01-02 09:52:00</td><td>RT @rainsophie: umm so guys I've been thinking a lot about my New Years resolution, and it's going to be to reunite the old magcon :)lemme ‰Û_</td><td>Family/Friends/Relationships</td><td>Be better at keeping in touch with loved ones or friends</td><td>FL</td><td>South    </td><td>female</td></tr>\n",
       "\t<tr><th scope=row>4721</th><td>2015-01-02 09:53:00</td><td><span style=white-space:pre-wrap>My New Years resolution is to get rid of my double chin:-))                                                                                   </span></td><td><span style=white-space:pre-wrap>Health &amp; Fitness            </span></td><td><span style=white-space:pre-wrap>Other                                                   </span></td><td>NH</td><td>Northeast</td><td>female</td></tr>\n",
       "\t<tr><th scope=row>4722</th><td>2015-01-02 09:54:00</td><td>RT @TheColIegeLife: New Years resolution: http://t.co/sqDwcpYFPF                                                                              </td><td>Humor                       </td><td>Humor about Helping Others Resolutions                  </td><td>IA</td><td>Midwest  </td><td>female</td></tr>\n",
       "\t<tr><th scope=row>4723</th><td>2015-01-02 09:54:00</td><td>My New Years resolution= own a 4-door jeep wrangler                                                                                           </td><td>Finance                     </td><td>Other                                                   </td><td>AL</td><td>South    </td><td>female</td></tr>\n",
       "</tbody>\n",
       "</table>\n"
      ],
      "text/latex": [
       "A data.frame: 4723 × 7\n",
       "\\begin{tabular}{r|lllllll}\n",
       "  & Date & Tweet & Category & Topics & State & Region & Gender\\\\\n",
       "  & <chr> & <chr> & <chr> & <chr> & <chr> & <chr> & <chr>\\\\\n",
       "\\hline\n",
       "\t1 & 2014-12-21 16:11:00 & \\#NewYearsResolution to not put the parking lot ticket directly in my mouth right after getting it from the machine \\#ew                                    & Humor                        & Humor about Personal Growth and Interests Resolutions & CA & West      & male  \\\\\n",
       "\t2 & 2014-12-21 16:16:00 & I got the hair. I just need to work on the body to pull off Lara Croft next Halloween \\#NewYearsResolution http://t.co/Ihqh5Z7prx                          & Health \\& Fitness             & Improve my body                                       & TX & South     & male  \\\\\n",
       "\t3 & 2014-12-21 16:30:00 & Self improvement!.. Mentally, physically, and financially. \\#NewYearsResolution                                                                            & Personal Growth              & Improve my attitude                                   & NV & West      & male  \\\\\n",
       "\t4 & 2014-12-21 17:51:00 & I've decided to get pregnant in \\#2015 \\#NewYearsResolution                                                                                                 & Humor                        & Humor about Family/Friends/Relationships Resolutions  & FL & South     & male  \\\\\n",
       "\t5 & 2014-12-21 18:09:00 & All I want for Christmas is to be Carrie Underwood. \\#NewYearsResolution                                                                                   & Personal Growth              & Other                                                 & SC & South     & female\\\\\n",
       "\t6 & 2014-12-21 18:18:00 & Note to self: \"Stop being lazy \\&amp; get back into hot yoga.\" I have a monthly pass, so no excuses! \\#hotyoga \\#newyearsresolution \\#healthiswealth          & Health \\& Fitness             & Excersize More                                        & NY & Northeast & female\\\\\n",
       "\t7 & 2014-12-21 18:50:00 & RT @ashley\\_pg19: I'm sick of waiting on life to happen. I want to make my life worth living. \\_Ùâ\\_ÙÎÈ \\#life \\#loveyourlife \\#christmastime \\#NewYear‰Û\\_ & Personal Growth              & Be more positive                                      & WI & Midwest   & female\\\\\n",
       "\t8 & 2014-12-21 19:12:00 & I have to go do my 6 mile run. \\#stayingFIT \\#toneUP \\#StallionBOOTY \\#NewYearsResolution starts now.                                                         & Health \\& Fitness             & Excersize More                                        & CA & West      & female\\\\\n",
       "\t9 & 2014-12-21 19:32:00 & social media purging \\&gt; \\#NewYearsResolution                                                                                                             & Personal Growth              & Try new things                                        & TN & South     & female\\\\\n",
       "\t10 & 2014-12-21 19:46:00 & My \\#NewYearsResolution is to gain a bunch of weight, then lose it                                                                                         & Humor                        & Humor about Personal Growth and Interests Resolutions & CA & West      & male  \\\\\n",
       "\t11 & 2014-12-21 19:46:00 & ‰ÛÏ@PartiPants27: My \\#NewYearsResolution is to make \"dem gainz\" By any means necessary‰Û bang bang muscle gainz                                     & Health \\& Fitness             & Improve my body                                       & CA & West      & male  \\\\\n",
       "\t12 & 2014-12-21 20:05:00 & My \\#NewYearsResolution should be to make payments on my student loan that are equal to my @ULTA\\_Beauty orders. \\#platinum                                  & Finance                      & Save money                                            & MN & Midwest   & female\\\\\n",
       "\t13 & 2014-12-21 20:10:00 & \\#NewYearsResolution 1: Acknowledge life's  futility by becoming an alcoholic.  (All tips and advice are welcome)                                          & Humor                        & Humor about Health and Fitness Resolutions            & CA & West      & male  \\\\\n",
       "\t14 & 2014-12-21 20:37:00 & they gotta listen tho \"@K1NG\\_JAMES\\_ \\#NewYearsResolution teach everyone I come in contact with a positive lesson that helps them out in life\"              & Philanthropic                & Other                                                 & TX & South     & male  \\\\\n",
       "\t15 & 2014-12-21 20:51:00 & RT @K1NG\\_JAMES\\_: I just wanna be as happy as the ppl that be on my chemistry book pretend to be \\#NewYearsResolution                                       & Personal Growth              & Be more positive                                      & TX & South     & female\\\\\n",
       "\t16 & 2014-12-21 21:03:00 & \\#NewYearsResolution: I will play more \\#tennis in 2015. \\_Ù÷\\_                                                                                               & Recreation \\& Leisure         & Spend more time on my hobby                           & MS & South     & female\\\\\n",
       "\t17 & 2014-12-21 21:09:00 & \\#bucketlist eat at chipotle never had it \\#1problem \\#NewYearsResolution is to go vegetarian. Panara it is, never had that either \\#pretentious              & Health \\& Fitness             & Eat healthier                                         & FL & South     & male  \\\\\n",
       "\t18 & 2014-12-21 21:23:00 & In 2015 I want to save all year to give a significant donation to a few charities I feel passionately about \\#NewYearsResolution                           & Philanthropic                & Donate more to charity                                & WV & South     & female\\\\\n",
       "\t19 & 2014-12-21 21:53:00 & By this time next year I want to be looking at houses \\_ÙÁ \\#NewYearsResolution                                                                       & Time Management/Organization & Re-organize                                           & MI & Midwest   & female\\\\\n",
       "\t20 & 2014-12-21 22:32:00 & I Am here to save the world. Damn it feels good. Daily Miracles. Join the \\#evolution  \\#NewYearsResolution \\#resolutions What are you here 4?               & Philanthropic                & Donate more to charity                                & CA & West      & male  \\\\\n",
       "\t21 & 2014-12-21 22:50:00 & \\&amp; too obsessed with social media.... habit I need to break \\#NewYearsResolution                                                                        & Personal Growth              & Use less social media                                 & FL & South     & female\\\\\n",
       "\t22 & 2014-12-21 23:22:00 & 1. Catch up on the 20 series I've totally missed out on. \\#NewYearsResolution                                                                              & Recreation \\& Leisure         & See a Concert/Show                                    & CA & West      & male  \\\\\n",
       "\t23 & 2014-12-22 02:09:00 & \\#NewYearsResolution become the fun person i use to be.                                                                                                    & Personal Growth              & Improve my attitude                                   & LA & South     & male  \\\\\n",
       "\t24 & 2014-12-22 02:57:00 & to actually work out and not be lazy about it  \\#NewYearsResolution                                                                                        & Personal Growth              & Focus on my self                                      & NY & Northeast & female\\\\\n",
       "\t25 & 2014-12-22 03:25:00 & RT @Lindseylelledee: Can't wait to be super clichÌ© \\&amp; jump back on the fitness wagon come January! \\#NewYearsResolution                                & Health \\& Fitness             & Improve my body                                       & MA & Northeast & female\\\\\n",
       "\t26 & 2014-12-22 04:25:00 & Wow my last post was around this time last year. \\#NewYearsResolution Get my twitter game up lol                                                           & Humor                        & Other                                                 & TX & South     & male  \\\\\n",
       "\t27 & 2014-12-22 05:20:00 & @adrianna\\_love oh \\#NewYearsResolution  ? It should be to build a real friendship like you promised we'd have                                              & Family/Friends/Relationships & Have a baby                                           & CA & West      & female\\\\\n",
       "\t28 & 2014-12-22 05:20:00 & RT @xNova\\_Cane: @adrianna\\_love oh \\#NewYearsResolution  ? It should be to build a real friendship like you promised we'd have                              & Family/Friends/Relationships & Make new friends                                      & CA & West      & female\\\\\n",
       "\t29 & 2014-12-22 07:43:00 & Thankful that spring always comes after winter. \\#writerslife \\#NewYearsResolution http://t.co/3N4D9vZ8A8                                                   & Personal Growth              & Improve my appearance                                 & GA & South     & female\\\\\n",
       "\t30 & 2014-12-22 07:55:00 & \\#NewYearsResolution for 2015 is to finish writing my book and get it published                                                                            & Time Management/Organization & Other                                                 & FL & South     & male  \\\\\n",
       "\t⋮ & ⋮ & ⋮ & ⋮ & ⋮ & ⋮ & ⋮ & ⋮\\\\\n",
       "\t4694 & 2015-01-02 09:42:00 & RT @dulcetry: Wellp already broke my New Years resolution of not falling off the toilet and breaking both legs again                           & Humor                        & Humor about Recreation and Leisure Resolutions           & NY & Northeast & male  \\\\\n",
       "\t4695 & 2015-01-02 09:42:00 & RT @scortscort: New years resolution is to produce a druggie anthem for @CousinStizz                                                           & Career                       & Other                                                    & MA & Northeast & male  \\\\\n",
       "\t4696 & 2015-01-02 09:42:00 & 2 days into 2015 and I still have not purchased anything online! New Years resolution going strong \\_ÙÔ\\_ÙÔ\\_ÙÔ                 & Finance                      & Save money                                               & MI & Midwest   & female\\\\\n",
       "\t4697 & 2015-01-02 09:42:00 & New years resolution: donkey punch someone famous.                                                                                             & Humor                        & Humor about not Resolutions in general                   & CT & Northeast & male  \\\\\n",
       "\t4698 & 2015-01-02 09:43:00 & RT @hippieatheart\\_\\_: My New Years resolution: focus on my physical, mental, and emotional health \\_ÙÔÎ                                          & Health \\& Fitness             & Meditate                                                 & SD & Midwest   & female\\\\\n",
       "\t4699 & 2015-01-02 09:43:00 & A family of ants have made it their new years resolution to take over my kitchen. Like most resolutions, this too shall fail. \\#getreadytodie   & Humor                        & Humor about Personal Growth and Interests Resolutions    & CA & West      & female\\\\\n",
       "\t4700 & 2015-01-02 09:44:00 & RT @pseudo\\_fred: My New Years resolution is to get some of my dignity back by going back to prostitution.                                      & Humor                        & Humor about Personal Growth and Interests Resolutions    & NY & Northeast & female\\\\\n",
       "\t4701 & 2015-01-02 09:44:00 & 17/M/London, UK - New years resolution. Let's make some friends. :) via /r/Needafriend http://t.co/12AtzvlgtQ http://t.co/wXblSzgz3K           & Family/Friends/Relationships & Spend more time with significant other                   & CA & West      & female\\\\\n",
       "\t4702 & 2015-01-02 09:44:00 & 17/M/London, UK - New years resolution. Let's make some friends. :) via /r/Needafriend http://t.co/12AtzvlgtQ http://t.co/1orV5kfiXT           & Family/Friends/Relationships & Have a baby                                              & CA & West      & female\\\\\n",
       "\t4703 & 2015-01-02 09:44:00 & My New Years resolution is to stop blatantly ignoring guys who ask to take me on dates. Wishful thinking people. It's not you, it's me.        & Family/Friends/Relationships & Make new friends                                         & NY & Northeast & female\\\\\n",
       "\t4704 & 2015-01-02 09:44:00 & ‰ÛÏ@WizKhalllifa: New Years resolution: http://t.co/Eg3b6bcJjM‰Û                                                                         & Personal Growth              & Improve my attitude                                      & NY & Northeast & female\\\\\n",
       "\t4705 & 2015-01-02 09:44:00 & New Years resolution, get my head straight. No more cigarettes, weed, or energy drinks. I'm going to do me. \\#NoMoreStressin                    & Health \\& Fitness             & Quit smoking                                             & CA & West      & male  \\\\\n",
       "\t4706 & 2015-01-02 09:44:00 & New Years Resolution \\#289: build a watermelon boat. Travel more. http://t.co/fhkAH4xRVa                                                        & Recreation \\& Leisure         & Take more vacation                                       & MI & Midwest   & female\\\\\n",
       "\t4707 & 2015-01-02 09:45:00 & For 2015 my New Years resolution is to make better bad decisions.                                                                              & Personal Growth              & Make better decisions                                    & TX & South     & male  \\\\\n",
       "\t4708 & 2015-01-02 09:46:00 & My new years resolution is to meet @MintMilana then of course marry her...                                                                     & Family/Friends/Relationships & Spend more time with significant other                   & TX & South     & male  \\\\\n",
       "\t4709 & 2015-01-02 09:46:00 & Making my New Years resolution to just be happy is like too much to ask for                                                                    & Personal Growth              & Be more positive                                         & CA & West      & female\\\\\n",
       "\t4710 & 2015-01-02 09:46:00 & RT @akphillips17: New years resolution: I'm really going to try my hardest to like @Courtney\\_Bee during 2015. \\#hardtask \\#icandothis            & Personal Growth              & Update my wardrobe                                       & ME & Northeast & female\\\\\n",
       "\t4711 & 2015-01-02 09:47:00 & My New Years resolution is to build a tolerance for spicier foods so I can eat more Indian food \\_ÙÓ´                                           & Personal Growth              & Try new things                                           & NJ & Northeast & female\\\\\n",
       "\t4712 & 2015-01-02 09:47:00 & New Years' Resolution: Spend More Time Doing This (and Less Doing That!) \\#women http://t.co/IawFHWCNqj                                         & Time Management/Organization & Re-organize                                              & AR & South     & female\\\\\n",
       "\t4713 & 2015-01-02 09:48:00 & my new years resolution is to not try the @McDonalds triple cheeseburger                                                                       & Health \\& Fitness             & Eat healthier                                            & IL & Midwest   & male  \\\\\n",
       "\t4714 & 2015-01-02 09:49:00 & New Years resolution: watch The Grand Budapest Hotel once a week.                                                                              & Recreation \\& Leisure         & Spend more time on my hobby                              & MA & Northeast & male  \\\\\n",
       "\t4715 & 2015-01-02 09:49:00 & My New Years resolution is simply going to be remembering to write 2015 instead of 2014                                                        & Humor                        & Humor about New Years                                    & CA & West      & female\\\\\n",
       "\t4716 & 2015-01-02 09:49:00 & My New Years resolution.... http://t.co/CDutLmTJ6g                                                                                             & Personal Growth              & Be more positive                                         & CA & West      & female\\\\\n",
       "\t4717 & 2015-01-02 09:51:00 & My New Years resolution is to raise myself to a level of culinary excellence rarely seen in people as young as myself.                         & Recreation \\& Leisure         & Spend more time on my hobby                              & TX & South     & male  \\\\\n",
       "\t4718 & 2015-01-02 09:51:00 & I'm still on that New Years resolution I made 3 years ago ‰Ï\\_ \\#3YearsSodaSober                                                                 & Health \\& Fitness             & Eat healthier                                            & IA & Midwest   & male  \\\\\n",
       "\t4719 & 2015-01-02 09:52:00 & My first New Years Resolution is to learn to accept myself as I am. So, I guess I won't be making any others.                                  & Personal Growth              & Use more social media                                    & OH & Midwest   & male  \\\\\n",
       "\t4720 & 2015-01-02 09:52:00 & RT @rainsophie: umm so guys I've been thinking a lot about my New Years resolution, and it's going to be to reunite the old magcon :)lemme ‰Û\\_ & Family/Friends/Relationships & Be better at keeping in touch with loved ones or friends & FL & South     & female\\\\\n",
       "\t4721 & 2015-01-02 09:53:00 & My New Years resolution is to get rid of my double chin:-))                                                                                    & Health \\& Fitness             & Other                                                    & NH & Northeast & female\\\\\n",
       "\t4722 & 2015-01-02 09:54:00 & RT @TheColIegeLife: New Years resolution: http://t.co/sqDwcpYFPF                                                                               & Humor                        & Humor about Helping Others Resolutions                   & IA & Midwest   & female\\\\\n",
       "\t4723 & 2015-01-02 09:54:00 & My New Years resolution= own a 4-door jeep wrangler                                                                                            & Finance                      & Other                                                    & AL & South     & female\\\\\n",
       "\\end{tabular}\n"
      ],
      "text/markdown": [
       "\n",
       "A data.frame: 4723 × 7\n",
       "\n",
       "| <!--/--> | Date &lt;chr&gt; | Tweet &lt;chr&gt; | Category &lt;chr&gt; | Topics &lt;chr&gt; | State &lt;chr&gt; | Region &lt;chr&gt; | Gender &lt;chr&gt; |\n",
       "|---|---|---|---|---|---|---|---|\n",
       "| 1 | 2014-12-21 16:11:00 | #NewYearsResolution to not put the parking lot ticket directly in my mouth right after getting it from the machine #ew                                    | Humor                        | Humor about Personal Growth and Interests Resolutions | CA | West      | male   |\n",
       "| 2 | 2014-12-21 16:16:00 | I got the hair. I just need to work on the body to pull off Lara Croft next Halloween #NewYearsResolution http://t.co/Ihqh5Z7prx                          | Health &amp; Fitness             | Improve my body                                       | TX | South     | male   |\n",
       "| 3 | 2014-12-21 16:30:00 | Self improvement!.. Mentally, physically, and financially. #NewYearsResolution                                                                            | Personal Growth              | Improve my attitude                                   | NV | West      | male   |\n",
       "| 4 | 2014-12-21 17:51:00 | I've decided to get pregnant in #2015 #NewYearsResolution                                                                                                 | Humor                        | Humor about Family/Friends/Relationships Resolutions  | FL | South     | male   |\n",
       "| 5 | 2014-12-21 18:09:00 | All I want for Christmas is to be Carrie Underwood. #NewYearsResolution                                                                                   | Personal Growth              | Other                                                 | SC | South     | female |\n",
       "| 6 | 2014-12-21 18:18:00 | Note to self: \"Stop being lazy &amp;amp; get back into hot yoga.\" I have a monthly pass, so no excuses! #hotyoga #newyearsresolution #healthiswealth          | Health &amp; Fitness             | Excersize More                                        | NY | Northeast | female |\n",
       "| 7 | 2014-12-21 18:50:00 | RT @ashley_pg19: I'm sick of waiting on life to happen. I want to make my life worth living. _Ùâ_ÙÎÈ #life #loveyourlife #christmastime #NewYear‰Û_ | Personal Growth              | Be more positive                                      | WI | Midwest   | female |\n",
       "| 8 | 2014-12-21 19:12:00 | I have to go do my 6 mile run. #stayingFIT #toneUP #StallionBOOTY #NewYearsResolution starts now.                                                         | Health &amp; Fitness             | Excersize More                                        | CA | West      | female |\n",
       "| 9 | 2014-12-21 19:32:00 | social media purging &amp;gt; #NewYearsResolution                                                                                                             | Personal Growth              | Try new things                                        | TN | South     | female |\n",
       "| 10 | 2014-12-21 19:46:00 | My #NewYearsResolution is to gain a bunch of weight, then lose it                                                                                         | Humor                        | Humor about Personal Growth and Interests Resolutions | CA | West      | male   |\n",
       "| 11 | 2014-12-21 19:46:00 | ‰ÛÏ@PartiPants27: My #NewYearsResolution is to make \"dem gainz\" By any means necessary‰Û bang bang muscle gainz                                     | Health &amp; Fitness             | Improve my body                                       | CA | West      | male   |\n",
       "| 12 | 2014-12-21 20:05:00 | My #NewYearsResolution should be to make payments on my student loan that are equal to my @ULTA_Beauty orders. #platinum                                  | Finance                      | Save money                                            | MN | Midwest   | female |\n",
       "| 13 | 2014-12-21 20:10:00 | #NewYearsResolution 1: Acknowledge life's  futility by becoming an alcoholic.  (All tips and advice are welcome)                                          | Humor                        | Humor about Health and Fitness Resolutions            | CA | West      | male   |\n",
       "| 14 | 2014-12-21 20:37:00 | they gotta listen tho \"@K1NG_JAMES_ #NewYearsResolution teach everyone I come in contact with a positive lesson that helps them out in life\"              | Philanthropic                | Other                                                 | TX | South     | male   |\n",
       "| 15 | 2014-12-21 20:51:00 | RT @K1NG_JAMES_: I just wanna be as happy as the ppl that be on my chemistry book pretend to be #NewYearsResolution                                       | Personal Growth              | Be more positive                                      | TX | South     | female |\n",
       "| 16 | 2014-12-21 21:03:00 | #NewYearsResolution: I will play more #tennis in 2015. _Ù÷_                                                                                               | Recreation &amp; Leisure         | Spend more time on my hobby                           | MS | South     | female |\n",
       "| 17 | 2014-12-21 21:09:00 | #bucketlist eat at chipotle never had it #1problem #NewYearsResolution is to go vegetarian. Panara it is, never had that either #pretentious              | Health &amp; Fitness             | Eat healthier                                         | FL | South     | male   |\n",
       "| 18 | 2014-12-21 21:23:00 | In 2015 I want to save all year to give a significant donation to a few charities I feel passionately about #NewYearsResolution                           | Philanthropic                | Donate more to charity                                | WV | South     | female |\n",
       "| 19 | 2014-12-21 21:53:00 | By this time next year I want to be looking at houses _ÙÁ #NewYearsResolution                                                                       | Time Management/Organization | Re-organize                                           | MI | Midwest   | female |\n",
       "| 20 | 2014-12-21 22:32:00 | I Am here to save the world. Damn it feels good. Daily Miracles. Join the #evolution  #NewYearsResolution #resolutions What are you here 4?               | Philanthropic                | Donate more to charity                                | CA | West      | male   |\n",
       "| 21 | 2014-12-21 22:50:00 | &amp;amp; too obsessed with social media.... habit I need to break #NewYearsResolution                                                                        | Personal Growth              | Use less social media                                 | FL | South     | female |\n",
       "| 22 | 2014-12-21 23:22:00 | 1. Catch up on the 20 series I've totally missed out on. #NewYearsResolution                                                                              | Recreation &amp; Leisure         | See a Concert/Show                                    | CA | West      | male   |\n",
       "| 23 | 2014-12-22 02:09:00 | #NewYearsResolution become the fun person i use to be.                                                                                                    | Personal Growth              | Improve my attitude                                   | LA | South     | male   |\n",
       "| 24 | 2014-12-22 02:57:00 | to actually work out and not be lazy about it  #NewYearsResolution                                                                                        | Personal Growth              | Focus on my self                                      | NY | Northeast | female |\n",
       "| 25 | 2014-12-22 03:25:00 | RT @Lindseylelledee: Can't wait to be super clichÌ© &amp;amp; jump back on the fitness wagon come January! #NewYearsResolution                                | Health &amp; Fitness             | Improve my body                                       | MA | Northeast | female |\n",
       "| 26 | 2014-12-22 04:25:00 | Wow my last post was around this time last year. #NewYearsResolution Get my twitter game up lol                                                           | Humor                        | Other                                                 | TX | South     | male   |\n",
       "| 27 | 2014-12-22 05:20:00 | @adrianna_love oh #NewYearsResolution  ? It should be to build a real friendship like you promised we'd have                                              | Family/Friends/Relationships | Have a baby                                           | CA | West      | female |\n",
       "| 28 | 2014-12-22 05:20:00 | RT @xNova_Cane: @adrianna_love oh #NewYearsResolution  ? It should be to build a real friendship like you promised we'd have                              | Family/Friends/Relationships | Make new friends                                      | CA | West      | female |\n",
       "| 29 | 2014-12-22 07:43:00 | Thankful that spring always comes after winter. #writerslife #NewYearsResolution http://t.co/3N4D9vZ8A8                                                   | Personal Growth              | Improve my appearance                                 | GA | South     | female |\n",
       "| 30 | 2014-12-22 07:55:00 | #NewYearsResolution for 2015 is to finish writing my book and get it published                                                                            | Time Management/Organization | Other                                                 | FL | South     | male   |\n",
       "| ⋮ | ⋮ | ⋮ | ⋮ | ⋮ | ⋮ | ⋮ | ⋮ |\n",
       "| 4694 | 2015-01-02 09:42:00 | RT @dulcetry: Wellp already broke my New Years resolution of not falling off the toilet and breaking both legs again                           | Humor                        | Humor about Recreation and Leisure Resolutions           | NY | Northeast | male   |\n",
       "| 4695 | 2015-01-02 09:42:00 | RT @scortscort: New years resolution is to produce a druggie anthem for @CousinStizz                                                           | Career                       | Other                                                    | MA | Northeast | male   |\n",
       "| 4696 | 2015-01-02 09:42:00 | 2 days into 2015 and I still have not purchased anything online! New Years resolution going strong _ÙÔ_ÙÔ_ÙÔ                 | Finance                      | Save money                                               | MI | Midwest   | female |\n",
       "| 4697 | 2015-01-02 09:42:00 | New years resolution: donkey punch someone famous.                                                                                             | Humor                        | Humor about not Resolutions in general                   | CT | Northeast | male   |\n",
       "| 4698 | 2015-01-02 09:43:00 | RT @hippieatheart__: My New Years resolution: focus on my physical, mental, and emotional health _ÙÔÎ                                          | Health &amp; Fitness             | Meditate                                                 | SD | Midwest   | female |\n",
       "| 4699 | 2015-01-02 09:43:00 | A family of ants have made it their new years resolution to take over my kitchen. Like most resolutions, this too shall fail. #getreadytodie   | Humor                        | Humor about Personal Growth and Interests Resolutions    | CA | West      | female |\n",
       "| 4700 | 2015-01-02 09:44:00 | RT @pseudo_fred: My New Years resolution is to get some of my dignity back by going back to prostitution.                                      | Humor                        | Humor about Personal Growth and Interests Resolutions    | NY | Northeast | female |\n",
       "| 4701 | 2015-01-02 09:44:00 | 17/M/London, UK - New years resolution. Let's make some friends. :) via /r/Needafriend http://t.co/12AtzvlgtQ http://t.co/wXblSzgz3K           | Family/Friends/Relationships | Spend more time with significant other                   | CA | West      | female |\n",
       "| 4702 | 2015-01-02 09:44:00 | 17/M/London, UK - New years resolution. Let's make some friends. :) via /r/Needafriend http://t.co/12AtzvlgtQ http://t.co/1orV5kfiXT           | Family/Friends/Relationships | Have a baby                                              | CA | West      | female |\n",
       "| 4703 | 2015-01-02 09:44:00 | My New Years resolution is to stop blatantly ignoring guys who ask to take me on dates. Wishful thinking people. It's not you, it's me.        | Family/Friends/Relationships | Make new friends                                         | NY | Northeast | female |\n",
       "| 4704 | 2015-01-02 09:44:00 | ‰ÛÏ@WizKhalllifa: New Years resolution: http://t.co/Eg3b6bcJjM‰Û                                                                         | Personal Growth              | Improve my attitude                                      | NY | Northeast | female |\n",
       "| 4705 | 2015-01-02 09:44:00 | New Years resolution, get my head straight. No more cigarettes, weed, or energy drinks. I'm going to do me. #NoMoreStressin                    | Health &amp; Fitness             | Quit smoking                                             | CA | West      | male   |\n",
       "| 4706 | 2015-01-02 09:44:00 | New Years Resolution #289: build a watermelon boat. Travel more. http://t.co/fhkAH4xRVa                                                        | Recreation &amp; Leisure         | Take more vacation                                       | MI | Midwest   | female |\n",
       "| 4707 | 2015-01-02 09:45:00 | For 2015 my New Years resolution is to make better bad decisions.                                                                              | Personal Growth              | Make better decisions                                    | TX | South     | male   |\n",
       "| 4708 | 2015-01-02 09:46:00 | My new years resolution is to meet @MintMilana then of course marry her...                                                                     | Family/Friends/Relationships | Spend more time with significant other                   | TX | South     | male   |\n",
       "| 4709 | 2015-01-02 09:46:00 | Making my New Years resolution to just be happy is like too much to ask for                                                                    | Personal Growth              | Be more positive                                         | CA | West      | female |\n",
       "| 4710 | 2015-01-02 09:46:00 | RT @akphillips17: New years resolution: I'm really going to try my hardest to like @Courtney_Bee during 2015. #hardtask #icandothis            | Personal Growth              | Update my wardrobe                                       | ME | Northeast | female |\n",
       "| 4711 | 2015-01-02 09:47:00 | My New Years resolution is to build a tolerance for spicier foods so I can eat more Indian food _ÙÓ´                                           | Personal Growth              | Try new things                                           | NJ | Northeast | female |\n",
       "| 4712 | 2015-01-02 09:47:00 | New Years' Resolution: Spend More Time Doing This (and Less Doing That!) #women http://t.co/IawFHWCNqj                                         | Time Management/Organization | Re-organize                                              | AR | South     | female |\n",
       "| 4713 | 2015-01-02 09:48:00 | my new years resolution is to not try the @McDonalds triple cheeseburger                                                                       | Health &amp; Fitness             | Eat healthier                                            | IL | Midwest   | male   |\n",
       "| 4714 | 2015-01-02 09:49:00 | New Years resolution: watch The Grand Budapest Hotel once a week.                                                                              | Recreation &amp; Leisure         | Spend more time on my hobby                              | MA | Northeast | male   |\n",
       "| 4715 | 2015-01-02 09:49:00 | My New Years resolution is simply going to be remembering to write 2015 instead of 2014                                                        | Humor                        | Humor about New Years                                    | CA | West      | female |\n",
       "| 4716 | 2015-01-02 09:49:00 | My New Years resolution.... http://t.co/CDutLmTJ6g                                                                                             | Personal Growth              | Be more positive                                         | CA | West      | female |\n",
       "| 4717 | 2015-01-02 09:51:00 | My New Years resolution is to raise myself to a level of culinary excellence rarely seen in people as young as myself.                         | Recreation &amp; Leisure         | Spend more time on my hobby                              | TX | South     | male   |\n",
       "| 4718 | 2015-01-02 09:51:00 | I'm still on that New Years resolution I made 3 years ago ‰Ï_ #3YearsSodaSober                                                                 | Health &amp; Fitness             | Eat healthier                                            | IA | Midwest   | male   |\n",
       "| 4719 | 2015-01-02 09:52:00 | My first New Years Resolution is to learn to accept myself as I am. So, I guess I won't be making any others.                                  | Personal Growth              | Use more social media                                    | OH | Midwest   | male   |\n",
       "| 4720 | 2015-01-02 09:52:00 | RT @rainsophie: umm so guys I've been thinking a lot about my New Years resolution, and it's going to be to reunite the old magcon :)lemme ‰Û_ | Family/Friends/Relationships | Be better at keeping in touch with loved ones or friends | FL | South     | female |\n",
       "| 4721 | 2015-01-02 09:53:00 | My New Years resolution is to get rid of my double chin:-))                                                                                    | Health &amp; Fitness             | Other                                                    | NH | Northeast | female |\n",
       "| 4722 | 2015-01-02 09:54:00 | RT @TheColIegeLife: New Years resolution: http://t.co/sqDwcpYFPF                                                                               | Humor                        | Humor about Helping Others Resolutions                   | IA | Midwest   | female |\n",
       "| 4723 | 2015-01-02 09:54:00 | My New Years resolution= own a 4-door jeep wrangler                                                                                            | Finance                      | Other                                                    | AL | South     | female |\n",
       "\n"
      ],
      "text/plain": [
       "     Date               \n",
       "1    2014-12-21 16:11:00\n",
       "2    2014-12-21 16:16:00\n",
       "3    2014-12-21 16:30:00\n",
       "4    2014-12-21 17:51:00\n",
       "5    2014-12-21 18:09:00\n",
       "6    2014-12-21 18:18:00\n",
       "7    2014-12-21 18:50:00\n",
       "8    2014-12-21 19:12:00\n",
       "9    2014-12-21 19:32:00\n",
       "10   2014-12-21 19:46:00\n",
       "11   2014-12-21 19:46:00\n",
       "12   2014-12-21 20:05:00\n",
       "13   2014-12-21 20:10:00\n",
       "14   2014-12-21 20:37:00\n",
       "15   2014-12-21 20:51:00\n",
       "16   2014-12-21 21:03:00\n",
       "17   2014-12-21 21:09:00\n",
       "18   2014-12-21 21:23:00\n",
       "19   2014-12-21 21:53:00\n",
       "20   2014-12-21 22:32:00\n",
       "21   2014-12-21 22:50:00\n",
       "22   2014-12-21 23:22:00\n",
       "23   2014-12-22 02:09:00\n",
       "24   2014-12-22 02:57:00\n",
       "25   2014-12-22 03:25:00\n",
       "26   2014-12-22 04:25:00\n",
       "27   2014-12-22 05:20:00\n",
       "28   2014-12-22 05:20:00\n",
       "29   2014-12-22 07:43:00\n",
       "30   2014-12-22 07:55:00\n",
       "⋮    ⋮                  \n",
       "4694 2015-01-02 09:42:00\n",
       "4695 2015-01-02 09:42:00\n",
       "4696 2015-01-02 09:42:00\n",
       "4697 2015-01-02 09:42:00\n",
       "4698 2015-01-02 09:43:00\n",
       "4699 2015-01-02 09:43:00\n",
       "4700 2015-01-02 09:44:00\n",
       "4701 2015-01-02 09:44:00\n",
       "4702 2015-01-02 09:44:00\n",
       "4703 2015-01-02 09:44:00\n",
       "4704 2015-01-02 09:44:00\n",
       "4705 2015-01-02 09:44:00\n",
       "4706 2015-01-02 09:44:00\n",
       "4707 2015-01-02 09:45:00\n",
       "4708 2015-01-02 09:46:00\n",
       "4709 2015-01-02 09:46:00\n",
       "4710 2015-01-02 09:46:00\n",
       "4711 2015-01-02 09:47:00\n",
       "4712 2015-01-02 09:47:00\n",
       "4713 2015-01-02 09:48:00\n",
       "4714 2015-01-02 09:49:00\n",
       "4715 2015-01-02 09:49:00\n",
       "4716 2015-01-02 09:49:00\n",
       "4717 2015-01-02 09:51:00\n",
       "4718 2015-01-02 09:51:00\n",
       "4719 2015-01-02 09:52:00\n",
       "4720 2015-01-02 09:52:00\n",
       "4721 2015-01-02 09:53:00\n",
       "4722 2015-01-02 09:54:00\n",
       "4723 2015-01-02 09:54:00\n",
       "     Tweet                                                                                                                                                    \n",
       "1    #NewYearsResolution to not put the parking lot ticket directly in my mouth right after getting it from the machine #ew                                   \n",
       "2    I got the hair. I just need to work on the body to pull off Lara Croft next Halloween #NewYearsResolution http://t.co/Ihqh5Z7prx                         \n",
       "3    Self improvement!.. Mentally, physically, and financially. #NewYearsResolution                                                                           \n",
       "4    I've decided to get pregnant in #2015 #NewYearsResolution                                                                                                \n",
       "5    All I want for Christmas is to be Carrie Underwood. #NewYearsResolution                                                                                  \n",
       "6    Note to self: \"Stop being lazy &amp; get back into hot yoga.\" I have a monthly pass, so no excuses! #hotyoga #newyearsresolution #healthiswealth         \n",
       "7    RT @ashley_pg19: I'm sick of waiting on life to happen. I want to make my life worth living. _Ù\\u008dâ_ÙÎÈ #life #loveyourlife #christmastime #NewYear‰Û_\n",
       "8    I have to go do my 6 mile run. #stayingFIT #toneUP #StallionBOOTY #NewYearsResolution starts now.                                                        \n",
       "9    social media purging &gt; #NewYearsResolution                                                                                                            \n",
       "10   My #NewYearsResolution is to gain a bunch of weight, then lose it                                                                                        \n",
       "11   ‰ÛÏ@PartiPants27: My #NewYearsResolution is to make \"dem gainz\" By any means necessary‰Û\\u009d bang bang muscle gainz                                    \n",
       "12   My #NewYearsResolution should be to make payments on my student loan that are equal to my @ULTA_Beauty orders. #platinum                                 \n",
       "13   #NewYearsResolution 1: Acknowledge life's  futility by becoming an alcoholic.  (All tips and advice are welcome)                                         \n",
       "14   they gotta listen tho \"@K1NG_JAMES_ #NewYearsResolution teach everyone I come in contact with a positive lesson that helps them out in life\"             \n",
       "15   RT @K1NG_JAMES_: I just wanna be as happy as the ppl that be on my chemistry book pretend to be #NewYearsResolution                                      \n",
       "16   #NewYearsResolution: I will play more #tennis in 2015. _Ù÷_                                                                                              \n",
       "17   #bucketlist eat at chipotle never had it #1problem #NewYearsResolution is to go vegetarian. Panara it is, never had that either #pretentious             \n",
       "18   In 2015 I want to save all year to give a significant donation to a few charities I feel passionately about #NewYearsResolution                          \n",
       "19   By this time next year I want to be looking at houses _Ù\\u008fÁ #NewYearsResolution                                                                      \n",
       "20   I Am here to save the world. Damn it feels good. Daily Miracles. Join the #evolution  #NewYearsResolution #resolutions What are you here 4?              \n",
       "21   &amp; too obsessed with social media.... habit I need to break #NewYearsResolution                                                                       \n",
       "22   1. Catch up on the 20 series I've totally missed out on. #NewYearsResolution                                                                             \n",
       "23   #NewYearsResolution become the fun person i use to be.                                                                                                   \n",
       "24   to actually work out and not be lazy about it  #NewYearsResolution                                                                                       \n",
       "25   RT @Lindseylelledee: Can't wait to be super clichÌ© &amp; jump back on the fitness wagon come January! #NewYearsResolution                               \n",
       "26   Wow my last post was around this time last year. #NewYearsResolution Get my twitter game up lol                                                          \n",
       "27   @adrianna_love oh #NewYearsResolution  ? It should be to build a real friendship like you promised we'd have                                             \n",
       "28   RT @xNova_Cane: @adrianna_love oh #NewYearsResolution  ? It should be to build a real friendship like you promised we'd have                             \n",
       "29   Thankful that spring always comes after winter. #writerslife #NewYearsResolution http://t.co/3N4D9vZ8A8                                                  \n",
       "30   #NewYearsResolution for 2015 is to finish writing my book and get it published                                                                           \n",
       "⋮    ⋮                                                                                                                                                        \n",
       "4694 RT @dulcetry: Wellp already broke my New Years resolution of not falling off the toilet and breaking both legs again                                     \n",
       "4695 RT @scortscort: New years resolution is to produce a druggie anthem for @CousinStizz                                                                     \n",
       "4696 2 days into 2015 and I still have not purchased anything online! New Years resolution going strong _ÙÔ\\u008f_ÙÔ\\u008f_ÙÔ\\u008f                           \n",
       "4697 New years resolution: donkey punch someone famous.                                                                                                       \n",
       "4698 RT @hippieatheart__: My New Years resolution: focus on my physical, mental, and emotional health _ÙÔÎ                                                    \n",
       "4699 A family of ants have made it their new years resolution to take over my kitchen. Like most resolutions, this too shall fail. #getreadytodie             \n",
       "4700 RT @pseudo_fred: My New Years resolution is to get some of my dignity back by going back to prostitution.                                                \n",
       "4701 17/M/London, UK - New years resolution. Let's make some friends. :) via /r/Needafriend http://t.co/12AtzvlgtQ http://t.co/wXblSzgz3K                     \n",
       "4702 17/M/London, UK - New years resolution. Let's make some friends. :) via /r/Needafriend http://t.co/12AtzvlgtQ http://t.co/1orV5kfiXT                     \n",
       "4703 My New Years resolution is to stop blatantly ignoring guys who ask to take me on dates. Wishful thinking people. It's not you, it's me.                  \n",
       "4704 ‰ÛÏ@WizKhalllifa: New Years resolution: http://t.co/Eg3b6bcJjM‰Û\\u009d                                                                                   \n",
       "4705 New Years resolution, get my head straight. No more cigarettes, weed, or energy drinks. I'm going to do me. #NoMoreStressin                              \n",
       "4706 New Years Resolution #289: build a watermelon boat. Travel more. http://t.co/fhkAH4xRVa                                                                  \n",
       "4707 For 2015 my New Years resolution is to make better bad decisions.                                                                                        \n",
       "4708 My new years resolution is to meet @MintMilana then of course marry her...                                                                               \n",
       "4709 Making my New Years resolution to just be happy is like too much to ask for                                                                              \n",
       "4710 RT @akphillips17: New years resolution: I'm really going to try my hardest to like @Courtney_Bee during 2015. #hardtask #icandothis                      \n",
       "4711 My New Years resolution is to build a tolerance for spicier foods so I can eat more Indian food _ÙÓ´                                                     \n",
       "4712 New Years' Resolution: Spend More Time Doing This (and Less Doing That!) #women http://t.co/IawFHWCNqj                                                   \n",
       "4713 my new years resolution is to not try the @McDonalds triple cheeseburger                                                                                 \n",
       "4714 New Years resolution: watch The Grand Budapest Hotel once a week.                                                                                        \n",
       "4715 My New Years resolution is simply going to be remembering to write 2015 instead of 2014                                                                  \n",
       "4716 My New Years resolution.... http://t.co/CDutLmTJ6g                                                                                                       \n",
       "4717 My New Years resolution is to raise myself to a level of culinary excellence rarely seen in people as young as myself.                                   \n",
       "4718 I'm still on that New Years resolution I made 3 years ago ‰Ï_ #3YearsSodaSober                                                                           \n",
       "4719 My first New Years Resolution is to learn to accept myself as I am. So, I guess I won't be making any others.                                            \n",
       "4720 RT @rainsophie: umm so guys I've been thinking a lot about my New Years resolution, and it's going to be to reunite the old magcon :)lemme ‰Û_           \n",
       "4721 My New Years resolution is to get rid of my double chin:-))                                                                                              \n",
       "4722 RT @TheColIegeLife: New Years resolution: http://t.co/sqDwcpYFPF                                                                                         \n",
       "4723 My New Years resolution= own a 4-door jeep wrangler                                                                                                      \n",
       "     Category                    \n",
       "1    Humor                       \n",
       "2    Health & Fitness            \n",
       "3    Personal Growth             \n",
       "4    Humor                       \n",
       "5    Personal Growth             \n",
       "6    Health & Fitness            \n",
       "7    Personal Growth             \n",
       "8    Health & Fitness            \n",
       "9    Personal Growth             \n",
       "10   Humor                       \n",
       "11   Health & Fitness            \n",
       "12   Finance                     \n",
       "13   Humor                       \n",
       "14   Philanthropic               \n",
       "15   Personal Growth             \n",
       "16   Recreation & Leisure        \n",
       "17   Health & Fitness            \n",
       "18   Philanthropic               \n",
       "19   Time Management/Organization\n",
       "20   Philanthropic               \n",
       "21   Personal Growth             \n",
       "22   Recreation & Leisure        \n",
       "23   Personal Growth             \n",
       "24   Personal Growth             \n",
       "25   Health & Fitness            \n",
       "26   Humor                       \n",
       "27   Family/Friends/Relationships\n",
       "28   Family/Friends/Relationships\n",
       "29   Personal Growth             \n",
       "30   Time Management/Organization\n",
       "⋮    ⋮                           \n",
       "4694 Humor                       \n",
       "4695 Career                      \n",
       "4696 Finance                     \n",
       "4697 Humor                       \n",
       "4698 Health & Fitness            \n",
       "4699 Humor                       \n",
       "4700 Humor                       \n",
       "4701 Family/Friends/Relationships\n",
       "4702 Family/Friends/Relationships\n",
       "4703 Family/Friends/Relationships\n",
       "4704 Personal Growth             \n",
       "4705 Health & Fitness            \n",
       "4706 Recreation & Leisure        \n",
       "4707 Personal Growth             \n",
       "4708 Family/Friends/Relationships\n",
       "4709 Personal Growth             \n",
       "4710 Personal Growth             \n",
       "4711 Personal Growth             \n",
       "4712 Time Management/Organization\n",
       "4713 Health & Fitness            \n",
       "4714 Recreation & Leisure        \n",
       "4715 Humor                       \n",
       "4716 Personal Growth             \n",
       "4717 Recreation & Leisure        \n",
       "4718 Health & Fitness            \n",
       "4719 Personal Growth             \n",
       "4720 Family/Friends/Relationships\n",
       "4721 Health & Fitness            \n",
       "4722 Humor                       \n",
       "4723 Finance                     \n",
       "     Topics                                                   State Region   \n",
       "1    Humor about Personal Growth and Interests Resolutions    CA    West     \n",
       "2    Improve my body                                          TX    South    \n",
       "3    Improve my attitude                                      NV    West     \n",
       "4    Humor about Family/Friends/Relationships Resolutions     FL    South    \n",
       "5    Other                                                    SC    South    \n",
       "6    Excersize More                                           NY    Northeast\n",
       "7    Be more positive                                         WI    Midwest  \n",
       "8    Excersize More                                           CA    West     \n",
       "9    Try new things                                           TN    South    \n",
       "10   Humor about Personal Growth and Interests Resolutions    CA    West     \n",
       "11   Improve my body                                          CA    West     \n",
       "12   Save money                                               MN    Midwest  \n",
       "13   Humor about Health and Fitness Resolutions               CA    West     \n",
       "14   Other                                                    TX    South    \n",
       "15   Be more positive                                         TX    South    \n",
       "16   Spend more time on my hobby                              MS    South    \n",
       "17   Eat healthier                                            FL    South    \n",
       "18   Donate more to charity                                   WV    South    \n",
       "19   Re-organize                                              MI    Midwest  \n",
       "20   Donate more to charity                                   CA    West     \n",
       "21   Use less social media                                    FL    South    \n",
       "22   See a Concert/Show                                       CA    West     \n",
       "23   Improve my attitude                                      LA    South    \n",
       "24   Focus on my self                                         NY    Northeast\n",
       "25   Improve my body                                          MA    Northeast\n",
       "26   Other                                                    TX    South    \n",
       "27   Have a baby                                              CA    West     \n",
       "28   Make new friends                                         CA    West     \n",
       "29   Improve my appearance                                    GA    South    \n",
       "30   Other                                                    FL    South    \n",
       "⋮    ⋮                                                        ⋮     ⋮        \n",
       "4694 Humor about Recreation and Leisure Resolutions           NY    Northeast\n",
       "4695 Other                                                    MA    Northeast\n",
       "4696 Save money                                               MI    Midwest  \n",
       "4697 Humor about not Resolutions in general                   CT    Northeast\n",
       "4698 Meditate                                                 SD    Midwest  \n",
       "4699 Humor about Personal Growth and Interests Resolutions    CA    West     \n",
       "4700 Humor about Personal Growth and Interests Resolutions    NY    Northeast\n",
       "4701 Spend more time with significant other                   CA    West     \n",
       "4702 Have a baby                                              CA    West     \n",
       "4703 Make new friends                                         NY    Northeast\n",
       "4704 Improve my attitude                                      NY    Northeast\n",
       "4705 Quit smoking                                             CA    West     \n",
       "4706 Take more vacation                                       MI    Midwest  \n",
       "4707 Make better decisions                                    TX    South    \n",
       "4708 Spend more time with significant other                   TX    South    \n",
       "4709 Be more positive                                         CA    West     \n",
       "4710 Update my wardrobe                                       ME    Northeast\n",
       "4711 Try new things                                           NJ    Northeast\n",
       "4712 Re-organize                                              AR    South    \n",
       "4713 Eat healthier                                            IL    Midwest  \n",
       "4714 Spend more time on my hobby                              MA    Northeast\n",
       "4715 Humor about New Years                                    CA    West     \n",
       "4716 Be more positive                                         CA    West     \n",
       "4717 Spend more time on my hobby                              TX    South    \n",
       "4718 Eat healthier                                            IA    Midwest  \n",
       "4719 Use more social media                                    OH    Midwest  \n",
       "4720 Be better at keeping in touch with loved ones or friends FL    South    \n",
       "4721 Other                                                    NH    Northeast\n",
       "4722 Humor about Helping Others Resolutions                   IA    Midwest  \n",
       "4723 Other                                                    AL    South    \n",
       "     Gender\n",
       "1    male  \n",
       "2    male  \n",
       "3    male  \n",
       "4    male  \n",
       "5    female\n",
       "6    female\n",
       "7    female\n",
       "8    female\n",
       "9    female\n",
       "10   male  \n",
       "11   male  \n",
       "12   female\n",
       "13   male  \n",
       "14   male  \n",
       "15   female\n",
       "16   female\n",
       "17   male  \n",
       "18   female\n",
       "19   female\n",
       "20   male  \n",
       "21   female\n",
       "22   male  \n",
       "23   male  \n",
       "24   female\n",
       "25   female\n",
       "26   male  \n",
       "27   female\n",
       "28   female\n",
       "29   female\n",
       "30   male  \n",
       "⋮    ⋮     \n",
       "4694 male  \n",
       "4695 male  \n",
       "4696 female\n",
       "4697 male  \n",
       "4698 female\n",
       "4699 female\n",
       "4700 female\n",
       "4701 female\n",
       "4702 female\n",
       "4703 female\n",
       "4704 female\n",
       "4705 male  \n",
       "4706 female\n",
       "4707 male  \n",
       "4708 male  \n",
       "4709 female\n",
       "4710 female\n",
       "4711 female\n",
       "4712 female\n",
       "4713 male  \n",
       "4714 male  \n",
       "4715 female\n",
       "4716 female\n",
       "4717 male  \n",
       "4718 male  \n",
       "4719 male  \n",
       "4720 female\n",
       "4721 female\n",
       "4722 female\n",
       "4723 female"
      ]
     },
     "metadata": {},
     "output_type": "display_data"
    }
   ],
   "source": [
    "na.omit(NYRtrim)"
   ]
  },
  {
   "cell_type": "code",
   "execution_count": 304,
   "id": "04656479",
   "metadata": {
    "vscode": {
     "languageId": "r"
    }
   },
   "outputs": [
    {
     "data": {
      "text/html": [
       "<table class=\"dataframe\">\n",
       "<caption>A data.frame: 6 × 7</caption>\n",
       "<thead>\n",
       "\t<tr><th></th><th scope=col>Date</th><th scope=col>Tweet</th><th scope=col>Category</th><th scope=col>Topics</th><th scope=col>State</th><th scope=col>Region</th><th scope=col>Gender</th></tr>\n",
       "\t<tr><th></th><th scope=col>&lt;chr&gt;</th><th scope=col>&lt;chr&gt;</th><th scope=col>&lt;chr&gt;</th><th scope=col>&lt;chr&gt;</th><th scope=col>&lt;chr&gt;</th><th scope=col>&lt;chr&gt;</th><th scope=col>&lt;chr&gt;</th></tr>\n",
       "</thead>\n",
       "<tbody>\n",
       "\t<tr><th scope=row>1</th><td>2014-12-21 16:11:00</td><td>#NewYearsResolution to not put the parking lot ticket directly in my mouth right after getting it from the machine #ew                          </td><td>Humor           </td><td>Humor about Personal Growth and Interests Resolutions</td><td>CA</td><td>West     </td><td>male  </td></tr>\n",
       "\t<tr><th scope=row>2</th><td>2014-12-21 16:16:00</td><td><span style=white-space:pre-wrap>I got the hair. I just need to work on the body to pull off Lara Croft next Halloween #NewYearsResolution http://t.co/Ihqh5Z7prx                </span></td><td>Health &amp; Fitness</td><td><span style=white-space:pre-wrap>Improve my body                                      </span></td><td>TX</td><td><span style=white-space:pre-wrap>South    </span></td><td><span style=white-space:pre-wrap>male  </span></td></tr>\n",
       "\t<tr><th scope=row>3</th><td>2014-12-21 16:30:00</td><td>Self improvement!.. Mentally, physically, and financially. #NewYearsResolution                                                                  </td><td>Personal Growth </td><td>Improve my attitude                                  </td><td>NV</td><td>West     </td><td>male  </td></tr>\n",
       "\t<tr><th scope=row>4</th><td>2014-12-21 17:51:00</td><td>I've decided to get pregnant in #2015 #NewYearsResolution                                                                                       </td><td>Humor           </td><td>Humor about Family/Friends/Relationships Resolutions </td><td>FL</td><td>South    </td><td>male  </td></tr>\n",
       "\t<tr><th scope=row>5</th><td>2014-12-21 18:09:00</td><td>All I want for Christmas is to be Carrie Underwood. #NewYearsResolution                                                                         </td><td>Personal Growth </td><td>Other                                                </td><td>SC</td><td>South    </td><td>female</td></tr>\n",
       "\t<tr><th scope=row>6</th><td>2014-12-21 18:18:00</td><td>Note to self: \"Stop being lazy &amp;amp; get back into hot yoga.\" I have a monthly pass, so no excuses! #hotyoga #newyearsresolution #healthiswealth</td><td>Health &amp; Fitness</td><td><span style=white-space:pre-wrap>Excersize More                                       </span></td><td>NY</td><td>Northeast</td><td>female</td></tr>\n",
       "</tbody>\n",
       "</table>\n"
      ],
      "text/latex": [
       "A data.frame: 6 × 7\n",
       "\\begin{tabular}{r|lllllll}\n",
       "  & Date & Tweet & Category & Topics & State & Region & Gender\\\\\n",
       "  & <chr> & <chr> & <chr> & <chr> & <chr> & <chr> & <chr>\\\\\n",
       "\\hline\n",
       "\t1 & 2014-12-21 16:11:00 & \\#NewYearsResolution to not put the parking lot ticket directly in my mouth right after getting it from the machine \\#ew                           & Humor            & Humor about Personal Growth and Interests Resolutions & CA & West      & male  \\\\\n",
       "\t2 & 2014-12-21 16:16:00 & I got the hair. I just need to work on the body to pull off Lara Croft next Halloween \\#NewYearsResolution http://t.co/Ihqh5Z7prx                 & Health \\& Fitness & Improve my body                                       & TX & South     & male  \\\\\n",
       "\t3 & 2014-12-21 16:30:00 & Self improvement!.. Mentally, physically, and financially. \\#NewYearsResolution                                                                   & Personal Growth  & Improve my attitude                                   & NV & West      & male  \\\\\n",
       "\t4 & 2014-12-21 17:51:00 & I've decided to get pregnant in \\#2015 \\#NewYearsResolution                                                                                        & Humor            & Humor about Family/Friends/Relationships Resolutions  & FL & South     & male  \\\\\n",
       "\t5 & 2014-12-21 18:09:00 & All I want for Christmas is to be Carrie Underwood. \\#NewYearsResolution                                                                          & Personal Growth  & Other                                                 & SC & South     & female\\\\\n",
       "\t6 & 2014-12-21 18:18:00 & Note to self: \"Stop being lazy \\&amp; get back into hot yoga.\" I have a monthly pass, so no excuses! \\#hotyoga \\#newyearsresolution \\#healthiswealth & Health \\& Fitness & Excersize More                                        & NY & Northeast & female\\\\\n",
       "\\end{tabular}\n"
      ],
      "text/markdown": [
       "\n",
       "A data.frame: 6 × 7\n",
       "\n",
       "| <!--/--> | Date &lt;chr&gt; | Tweet &lt;chr&gt; | Category &lt;chr&gt; | Topics &lt;chr&gt; | State &lt;chr&gt; | Region &lt;chr&gt; | Gender &lt;chr&gt; |\n",
       "|---|---|---|---|---|---|---|---|\n",
       "| 1 | 2014-12-21 16:11:00 | #NewYearsResolution to not put the parking lot ticket directly in my mouth right after getting it from the machine #ew                           | Humor            | Humor about Personal Growth and Interests Resolutions | CA | West      | male   |\n",
       "| 2 | 2014-12-21 16:16:00 | I got the hair. I just need to work on the body to pull off Lara Croft next Halloween #NewYearsResolution http://t.co/Ihqh5Z7prx                 | Health &amp; Fitness | Improve my body                                       | TX | South     | male   |\n",
       "| 3 | 2014-12-21 16:30:00 | Self improvement!.. Mentally, physically, and financially. #NewYearsResolution                                                                   | Personal Growth  | Improve my attitude                                   | NV | West      | male   |\n",
       "| 4 | 2014-12-21 17:51:00 | I've decided to get pregnant in #2015 #NewYearsResolution                                                                                        | Humor            | Humor about Family/Friends/Relationships Resolutions  | FL | South     | male   |\n",
       "| 5 | 2014-12-21 18:09:00 | All I want for Christmas is to be Carrie Underwood. #NewYearsResolution                                                                          | Personal Growth  | Other                                                 | SC | South     | female |\n",
       "| 6 | 2014-12-21 18:18:00 | Note to self: \"Stop being lazy &amp;amp; get back into hot yoga.\" I have a monthly pass, so no excuses! #hotyoga #newyearsresolution #healthiswealth | Health &amp; Fitness | Excersize More                                        | NY | Northeast | female |\n",
       "\n"
      ],
      "text/plain": [
       "  Date               \n",
       "1 2014-12-21 16:11:00\n",
       "2 2014-12-21 16:16:00\n",
       "3 2014-12-21 16:30:00\n",
       "4 2014-12-21 17:51:00\n",
       "5 2014-12-21 18:09:00\n",
       "6 2014-12-21 18:18:00\n",
       "  Tweet                                                                                                                                           \n",
       "1 #NewYearsResolution to not put the parking lot ticket directly in my mouth right after getting it from the machine #ew                          \n",
       "2 I got the hair. I just need to work on the body to pull off Lara Croft next Halloween #NewYearsResolution http://t.co/Ihqh5Z7prx                \n",
       "3 Self improvement!.. Mentally, physically, and financially. #NewYearsResolution                                                                  \n",
       "4 I've decided to get pregnant in #2015 #NewYearsResolution                                                                                       \n",
       "5 All I want for Christmas is to be Carrie Underwood. #NewYearsResolution                                                                         \n",
       "6 Note to self: \"Stop being lazy &amp; get back into hot yoga.\" I have a monthly pass, so no excuses! #hotyoga #newyearsresolution #healthiswealth\n",
       "  Category         Topics                                                State\n",
       "1 Humor            Humor about Personal Growth and Interests Resolutions CA   \n",
       "2 Health & Fitness Improve my body                                       TX   \n",
       "3 Personal Growth  Improve my attitude                                   NV   \n",
       "4 Humor            Humor about Family/Friends/Relationships Resolutions  FL   \n",
       "5 Personal Growth  Other                                                 SC   \n",
       "6 Health & Fitness Excersize More                                        NY   \n",
       "  Region    Gender\n",
       "1 West      male  \n",
       "2 South     male  \n",
       "3 West      male  \n",
       "4 South     male  \n",
       "5 South     female\n",
       "6 Northeast female"
      ]
     },
     "metadata": {},
     "output_type": "display_data"
    }
   ],
   "source": [
    "head(NYRtrim)"
   ]
  },
  {
   "cell_type": "markdown",
   "id": "ef80e1bf",
   "metadata": {},
   "source": [
    "# Which region in the United States plans on going to the gym more based on tweets? Target advertising in these regions.\n"
   ]
  },
  {
   "cell_type": "markdown",
   "id": "10408d6f",
   "metadata": {},
   "source": [
    "# Total number of Tweets is 4723"
   ]
  },
  {
   "cell_type": "code",
   "execution_count": 305,
   "id": "621feb53",
   "metadata": {
    "vscode": {
     "languageId": "r"
    }
   },
   "outputs": [
    {
     "name": "stdout",
     "output_type": "stream",
     "text": [
      "'data.frame':\t4723 obs. of  7 variables:\n",
      " $ Date    : chr  \"2014-12-21 16:11:00\" \"2014-12-21 16:16:00\" \"2014-12-21 16:30:00\" \"2014-12-21 17:51:00\" ...\n",
      " $ Tweet   : chr  \"#NewYearsResolution to not put the parking lot ticket directly in my mouth right after getting it from the machine #ew\" \"I got the hair. I just need to work on the body to pull off Lara Croft next Halloween #NewYearsResolution http:\"| __truncated__ \"Self improvement!.. Mentally, physically, and financially. #NewYearsResolution\" \"I've decided to get pregnant in #2015 #NewYearsResolution\" ...\n",
      " $ Category: chr  \"Humor\" \"Health & Fitness\" \"Personal Growth\" \"Humor\" ...\n",
      " $ Topics  : chr  \"Humor about Personal Growth and Interests Resolutions\" \"Improve my body\" \"Improve my attitude\" \"Humor about Family/Friends/Relationships Resolutions\" ...\n",
      " $ State   : chr  \"CA\" \"TX\" \"NV\" \"FL\" ...\n",
      " $ Region  : chr  \"West\" \"South\" \"West\" \"South\" ...\n",
      " $ Gender  : chr  \"male\" \"male\" \"male\" \"male\" ...\n"
     ]
    }
   ],
   "source": [
    "str(NYRtrim)"
   ]
  },
  {
   "cell_type": "markdown",
   "id": "5a5eca16",
   "metadata": {},
   "source": [
    "# Number of Health and Fitness tweets is 825"
   ]
  },
  {
   "cell_type": "code",
   "execution_count": 306,
   "id": "3c11f21b",
   "metadata": {
    "vscode": {
     "languageId": "r"
    }
   },
   "outputs": [
    {
     "data": {
      "text/plain": [
       "\n",
       "                      Career           Education/Training \n",
       "                         123                           87 \n",
       "Family/Friends/Relationships                      Finance \n",
       "                         327                          167 \n",
       "            Health & Fitness                        Humor \n",
       "                         825                          887 \n",
       "             Personal Growth                Philanthropic \n",
       "                        1678                           83 \n",
       "        Recreation & Leisure Time Management/Organization \n",
       "                         461                           85 "
      ]
     },
     "metadata": {},
     "output_type": "display_data"
    }
   ],
   "source": [
    "table(NYRtrim$Category)"
   ]
  },
  {
   "cell_type": "code",
   "execution_count": 307,
   "id": "6f3ed661",
   "metadata": {
    "vscode": {
     "languageId": "r"
    }
   },
   "outputs": [],
   "source": [
    "NumberOfTweets= 825"
   ]
  },
  {
   "cell_type": "markdown",
   "id": "3cfd69d5",
   "metadata": {},
   "source": [
    "# Recode Region"
   ]
  },
  {
   "cell_type": "code",
   "execution_count": 309,
   "id": "7f492784",
   "metadata": {
    "vscode": {
     "languageId": "r"
    }
   },
   "outputs": [
    {
     "data": {
      "text/html": [],
      "text/latex": [],
      "text/markdown": [],
      "text/plain": [
       "logical(0)"
      ]
     },
     "metadata": {},
     "output_type": "display_data"
    },
    {
     "data": {
      "text/html": [],
      "text/latex": [],
      "text/markdown": [],
      "text/plain": [
       "logical(0)"
      ]
     },
     "metadata": {},
     "output_type": "display_data"
    },
    {
     "data": {
      "text/html": [],
      "text/latex": [],
      "text/markdown": [],
      "text/plain": [
       "logical(0)"
      ]
     },
     "metadata": {},
     "output_type": "display_data"
    },
    {
     "data": {
      "text/html": [],
      "text/latex": [],
      "text/markdown": [],
      "text/plain": [
       "logical(0)"
      ]
     },
     "metadata": {},
     "output_type": "display_data"
    }
   ],
   "source": [
    "NYRtrim$RegionR [NYRtrim$Region == \"West\"] < - 1\n",
    "NYRtrim$RegionR [NYRtrim$Region == \"South\"] < - 2\n",
    "NYRtrim$RegionR [NYRtrim$Region == \"Northeast\"] < - 3\n",
    "NYRtrim$RegionR [NYRtrim$Region == \"Midwest\"] < - 4\n"
   ]
  },
  {
   "cell_type": "markdown",
   "id": "c3ee8394",
   "metadata": {},
   "source": [
    "# Ensure the IV is a factor"
   ]
  },
  {
   "cell_type": "code",
   "execution_count": 312,
   "id": "af606784",
   "metadata": {
    "vscode": {
     "languageId": "r"
    }
   },
   "outputs": [
    {
     "name": "stdout",
     "output_type": "stream",
     "text": [
      " NULL\n"
     ]
    }
   ],
   "source": [
    "str(NYRtrim$RegionR)\n"
   ]
  },
  {
   "cell_type": "markdown",
   "id": "9f3dc6f4",
   "metadata": {},
   "source": [
    "# Ensure the CV is a factor"
   ]
  },
  {
   "cell_type": "code",
   "execution_count": 313,
   "id": "bb15f4ba",
   "metadata": {
    "vscode": {
     "languageId": "r"
    }
   },
   "outputs": [
    {
     "name": "stdout",
     "output_type": "stream",
     "text": [
      " chr [1:4723] \"#NewYearsResolution to not put the parking lot ticket directly in my mouth right after getting it from the machine #ew\" ...\n"
     ]
    }
   ],
   "source": [
    "str(NYRtrim$Tweet)"
   ]
  },
  {
   "cell_type": "markdown",
   "id": "193873dc",
   "metadata": {},
   "source": [
    "# Make Tweet numeric"
   ]
  },
  {
   "cell_type": "code",
   "execution_count": 314,
   "id": "89a838be",
   "metadata": {
    "vscode": {
     "languageId": "r"
    }
   },
   "outputs": [
    {
     "name": "stderr",
     "output_type": "stream",
     "text": [
      "Warning message in eval(expr, envir, enclos):\n",
      "“NAs introduced by coercion”\n"
     ]
    }
   ],
   "source": [
    "NYRtrim$Tweet <- as.numeric(NYRtrim$Tweet)\n"
   ]
  },
  {
   "cell_type": "markdown",
   "id": "a0913671",
   "metadata": {},
   "source": [
    "# Check for Normality"
   ]
  },
  {
   "cell_type": "code",
   "execution_count": 315,
   "id": "68d941e2",
   "metadata": {
    "vscode": {
     "languageId": "r"
    }
   },
   "outputs": [
    {
     "name": "stderr",
     "output_type": "stream",
     "text": [
      "Warning message in min(x):\n",
      "“no non-missing arguments to min; returning Inf”\n",
      "Warning message in max(x):\n",
      "“no non-missing arguments to max; returning -Inf”\n"
     ]
    },
    {
     "ename": "ERROR",
     "evalue": "Error in seq.default(min(x), max(x), length = length): 'from' must be a finite number\n",
     "output_type": "error",
     "traceback": [
      "Error in seq.default(min(x), max(x), length = length): 'from' must be a finite number\nTraceback:\n",
      "1. plotNormalHistogram(NYRtrim$RegionR)",
      "2. seq(min(x), max(x), length = length)",
      "3. seq.default(min(x), max(x), length = length)",
      "4. stop(\"'from' must be a finite number\")"
     ]
    }
   ],
   "source": [
    "plotNormalHistogram(NYRtrim$RegionR)\n"
   ]
  },
  {
   "cell_type": "markdown",
   "id": "b3b5282e",
   "metadata": {},
   "source": [
    "# Homogeneity of Variance\n",
    "\n"
   ]
  },
  {
   "cell_type": "code",
   "execution_count": null,
   "id": "9a28285c",
   "metadata": {
    "vscode": {
     "languageId": "r"
    }
   },
   "outputs": [
    {
     "name": "stderr",
     "output_type": "stream",
     "text": [
      "Warning message in leveneTest.default(y = y, group = group, ...):\n",
      "“group coerced to factor.”\n"
     ]
    },
    {
     "ename": "ERROR",
     "evalue": "Error in `contrasts<-`(`*tmp*`, value = contr.funs[1 + isOF[nn]]): contrasts can be applied only to factors with 2 or more levels\n",
     "output_type": "error",
     "traceback": [
      "Error in `contrasts<-`(`*tmp*`, value = contr.funs[1 + isOF[nn]]): contrasts can be applied only to factors with 2 or more levels\nTraceback:\n",
      "1. leveneTest(Tweet ~ Region, data = NYRtrim)",
      "2. leveneTest.formula(Tweet ~ Region, data = NYRtrim)",
      "3. leveneTest.default(y = y, group = group, ...)",
      "4. anova(lm(resp ~ group))",
      "5. lm(resp ~ group)",
      "6. model.matrix(mt, mf, contrasts)",
      "7. model.matrix.default(mt, mf, contrasts)",
      "8. `contrasts<-`(`*tmp*`, value = contr.funs[1 + isOF[nn]])",
      "9. stop(\"contrasts can be applied only to factors with 2 or more levels\")"
     ]
    }
   ],
   "source": [
    "leveneTest(Tweet~Region, data=NYRtrim)\n"
   ]
  },
  {
   "cell_type": "markdown",
   "id": "fd312299",
   "metadata": {},
   "source": [
    "# Homogeneity of Regression Slopes\n"
   ]
  },
  {
   "cell_type": "code",
   "execution_count": null,
   "id": "f5247cf7",
   "metadata": {
    "vscode": {
     "languageId": "r"
    }
   },
   "outputs": [],
   "source": []
  },
  {
   "cell_type": "markdown",
   "id": "8d640e33",
   "metadata": {},
   "source": [
    "# Sample Size\n"
   ]
  },
  {
   "cell_type": "code",
   "execution_count": null,
   "id": "be21f6e9",
   "metadata": {
    "vscode": {
     "languageId": "r"
    }
   },
   "outputs": [],
   "source": []
  },
  {
   "cell_type": "markdown",
   "id": "f5bbd943",
   "metadata": {},
   "source": [
    "# ANCOVAs Analysis"
   ]
  },
  {
   "cell_type": "code",
   "execution_count": null,
   "id": "2c179a28",
   "metadata": {
    "vscode": {
     "languageId": "r"
    }
   },
   "outputs": [
    {
     "ename": "ERROR",
     "evalue": "Error in `contrasts<-`(`*tmp*`, value = contr.funs[1 + isOF[nn]]): contrasts can be applied only to factors with 2 or more levels\n",
     "output_type": "error",
     "traceback": [
      "Error in `contrasts<-`(`*tmp*`, value = contr.funs[1 + isOF[nn]]): contrasts can be applied only to factors with 2 or more levels\nTraceback:\n",
      "1. lm(Category ~ Tweet + Region * Tweet, data = NYRtrim)",
      "2. model.matrix(mt, mf, contrasts)",
      "3. model.matrix.default(mt, mf, contrasts)",
      "4. `contrasts<-`(`*tmp*`, value = contr.funs[1 + isOF[nn]])",
      "5. stop(\"contrasts can be applied only to factors with 2 or more levels\")"
     ]
    }
   ],
   "source": [
    "ANCOVA = lm(Category~Tweet +Region*Tweet, data=NYRtrim)\n",
    "anova(ANCOVA)"
   ]
  },
  {
   "cell_type": "code",
   "execution_count": null,
   "id": "4be13c97",
   "metadata": {
    "vscode": {
     "languageId": "r"
    }
   },
   "outputs": [],
   "source": []
  }
 ],
 "metadata": {
  "kernelspec": {
   "display_name": "R",
   "language": "R",
   "name": "ir"
  },
  "language_info": {
   "codemirror_mode": "r",
   "file_extension": ".r",
   "mimetype": "text/x-r-source",
   "name": "R",
   "pygments_lexer": "r",
   "version": "4.2.0"
  }
 },
 "nbformat": 4,
 "nbformat_minor": 5
}
